{
  "cells": [
    {
      "cell_type": "code",
      "execution_count": 2,
      "metadata": {
        "id": "jACEf8mO-KP6"
      },
      "outputs": [],
      "source": [
        "import numpy as np"
      ]
    },
    {
      "cell_type": "markdown",
      "metadata": {
        "id": "VnJczXnX_W2p"
      },
      "source": [
        "#  1. insert the correct code for creating a numpy array"
      ]
    },
    {
      "cell_type": "code",
      "execution_count": null,
      "metadata": {
        "colab": {
          "base_uri": "https://localhost:8080/"
        },
        "id": "i7nvp0sA_Tpc",
        "outputId": "0dc15147-9133-46a7-cb73-dcd3f838871d"
      },
      "outputs": [
        {
          "name": "stdout",
          "output_type": "stream",
          "text": [
            "[1 2 3 4 5]\n"
          ]
        }
      ],
      "source": [
        "a = np.array([1,2,3,4,5]) # use np\n",
        "print(a) # [1 2 3 4 5]"
      ]
    },
    {
      "cell_type": "markdown",
      "metadata": {
        "id": "uXtewzt8_V9Y"
      },
      "source": [
        "#  2. consider this function:\n",
        "\n"
      ]
    },
    {
      "cell_type": "code",
      "execution_count": null,
      "metadata": {
        "colab": {
          "base_uri": "https://localhost:8080/"
        },
        "id": "uQ09h76O_rxa",
        "outputId": "8be70fbc-d107-4888-9974-292cb3848eef"
      },
      "outputs": [
        {
          "name": "stdout",
          "output_type": "stream",
          "text": [
            "1\n",
            "[1 2 3 4]\n",
            "2\n",
            "[[1 2 3 4]]\n",
            "3\n",
            "[[[1 2 3 4]]]\n"
          ]
        }
      ],
      "source": [
        "def what(n):\n",
        "  a = np.array([1, 2, 3, 4], ndmin=n)\n",
        "  print(a.ndim)\n",
        "  return a\n",
        "\n",
        "#     what is the difference between what(1), what(2) and what(3)\n",
        "\n",
        "print(what(1)) # what do these print and why?\n",
        "print(what(2))\n",
        "print(what(3))\n"
      ]
    },
    {
      "cell_type": "markdown",
      "metadata": {
        "id": "k0kTVBHmBi2w"
      },
      "source": [
        "These print 1, 2, 3 respectively. The reason being that wen we call the what function and give the input n, we use that same input, n, in creating and declaring the minimum number of dimensions/axis in array a. So the dimensions of the array are n, thus the result of the what function will be the array declared, but based on the number it will be an array in an array in an array...\n"
      ]
    },
    {
      "cell_type": "markdown",
      "metadata": {
        "id": "AoeRaVAWCkXb"
      },
      "source": [
        "#  3. insert the correct argument for creating a numpy array with 2 dimensions"
      ]
    },
    {
      "cell_type": "code",
      "execution_count": null,
      "metadata": {
        "colab": {
          "base_uri": "https://localhost:8080/"
        },
        "id": "RIpP3dy2CEFU",
        "outputId": "3b417849-7257-4043-9b36-bf310edbe52e"
      },
      "outputs": [
        {
          "name": "stdout",
          "output_type": "stream",
          "text": [
            "[[1 2 3 4]]\n"
          ]
        }
      ],
      "source": [
        "a = np.array([[1, 2, 3, 4]])\n",
        "print(a) # should print [[1 2 3 4]]"
      ]
    },
    {
      "cell_type": "markdown",
      "metadata": {
        "id": "S_WjEaW3DZ-C"
      },
      "source": [
        "#  4. insert the correct syntax for checking the number of dimensions of a numpy array"
      ]
    },
    {
      "cell_type": "code",
      "execution_count": null,
      "metadata": {
        "colab": {
          "base_uri": "https://localhost:8080/"
        },
        "id": "lkcBmNfJENwm",
        "outputId": "9b62c074-b689-4f40-8b81-e39b5fbe9b3d"
      },
      "outputs": [
        {
          "name": "stdout",
          "output_type": "stream",
          "text": [
            "1\n",
            "2\n"
          ]
        }
      ],
      "source": [
        "a = np.array([1, 2, 3, 4])\n",
        "print(a.ndim ) # should print 1 (must refer to a)\n",
        "\n",
        "b = np.array([[1, 2], [3, 4]])\n",
        "print(b.ndim ) # should print 2 (must refer to b)"
      ]
    },
    {
      "cell_type": "markdown",
      "metadata": {
        "id": "MemtzcJqE0Xw"
      },
      "source": [
        "#  5. insert the correct syntax for printing the first item in the array:"
      ]
    },
    {
      "cell_type": "code",
      "execution_count": null,
      "metadata": {
        "colab": {
          "base_uri": "https://localhost:8080/"
        },
        "id": "sUoE-f20E3-6",
        "outputId": "9fa7b51d-8ba2-41e1-8b3f-c1e2cf33aefd"
      },
      "outputs": [
        {
          "name": "stdout",
          "output_type": "stream",
          "text": [
            "1\n"
          ]
        }
      ],
      "source": [
        "a = np.array([1, 2, 3, 4])\n",
        "print(a[0] ) # should print 1 must use a"
      ]
    },
    {
      "cell_type": "markdown",
      "metadata": {
        "id": "BPvH6AN9GVz5"
      },
      "source": [
        "#  6. insert the correct syntax for printing the number 50 from the array"
      ]
    },
    {
      "cell_type": "code",
      "execution_count": null,
      "metadata": {
        "colab": {
          "base_uri": "https://localhost:8080/"
        },
        "id": "Os-lV39zGZIm",
        "outputId": "fb2a31cf-3082-4a9d-af0d-05c302b25f17"
      },
      "outputs": [
        {
          "name": "stdout",
          "output_type": "stream",
          "text": [
            "50\n"
          ]
        }
      ],
      "source": [
        "a = np.array([10, 20, 30, 40, 50])\n",
        "print(a[4]) # should print 50 must use a"
      ]
    },
    {
      "cell_type": "markdown",
      "metadata": {
        "id": "x5eHkJw3GuVa"
      },
      "source": [
        "#  7. insert the correct syntax for printing the number 50 from the array"
      ]
    },
    {
      "cell_type": "code",
      "execution_count": null,
      "metadata": {
        "colab": {
          "base_uri": "https://localhost:8080/"
        },
        "id": "VbLWG6TgGxsJ",
        "outputId": "544d89de-af1c-4a13-ea6a-7797e1f25882"
      },
      "outputs": [
        {
          "name": "stdout",
          "output_type": "stream",
          "text": [
            "50\n"
          ]
        }
      ],
      "source": [
        "a = np.array([[10, 20, 30, 40], [50, 60, 70, 80]])\n",
        "print(a[1][0]) # should print 50 must use a"
      ]
    },
    {
      "cell_type": "markdown",
      "metadata": {
        "id": "1xEyQvbEITqD"
      },
      "source": [
        "#  8. use negative indexing to print the last item in the array"
      ]
    },
    {
      "cell_type": "code",
      "execution_count": null,
      "metadata": {
        "colab": {
          "base_uri": "https://localhost:8080/"
        },
        "id": "XgIWuKQtIWsK",
        "outputId": "74f47b85-d788-4acc-8f00-2ad75426351b"
      },
      "outputs": [
        {
          "name": "stdout",
          "output_type": "stream",
          "text": [
            "50\n"
          ]
        }
      ],
      "source": [
        "\n",
        "a = np.array([10, 20, 30, 40, 50])\n",
        "print(a[-1] ) # should print 50 must use a"
      ]
    },
    {
      "cell_type": "markdown",
      "metadata": {
        "id": "RuCjfL2YIbMi"
      },
      "source": [
        "#  9. slice out everything from the second item to (not including) the fifth item"
      ]
    },
    {
      "cell_type": "code",
      "execution_count": null,
      "metadata": {
        "colab": {
          "base_uri": "https://localhost:8080/"
        },
        "id": "Qb4_CkbwJUA6",
        "outputId": "9e3d130a-a232-4398-fd57-d1b82106b2bf"
      },
      "outputs": [
        {
          "name": "stdout",
          "output_type": "stream",
          "text": [
            "[15 20 25]\n"
          ]
        }
      ],
      "source": [
        "a = np.array([10, 15, 20, 25, 30, 35, 40])\n",
        "print(a[1:4]) # should print [15 20 25] must use a"
      ]
    },
    {
      "cell_type": "markdown",
      "metadata": {
        "id": "qTacoJoKKWaU"
      },
      "source": [
        "# 10.slice out everything from the third item to (not including) the fifth item"
      ]
    },
    {
      "cell_type": "code",
      "execution_count": null,
      "metadata": {
        "colab": {
          "base_uri": "https://localhost:8080/"
        },
        "id": "oD3TeeOeKV-w",
        "outputId": "fa67be5a-d772-4d6a-bc26-eebfd58d93e8"
      },
      "outputs": [
        {
          "name": "stdout",
          "output_type": "stream",
          "text": [
            "[20 25]\n"
          ]
        }
      ],
      "source": [
        "a = np.array([10, 15, 20, 25, 30, 35, 40])\n",
        "print(a[2:4]) # should print [20 25] must use a"
      ]
    },
    {
      "cell_type": "markdown",
      "metadata": {
        "id": "X232yt2sL2Cl"
      },
      "source": [
        "# 11. slice out every other item from the second item to (not including) the fifth item"
      ]
    },
    {
      "cell_type": "code",
      "execution_count": null,
      "metadata": {
        "colab": {
          "base_uri": "https://localhost:8080/"
        },
        "id": "xXc4BOIyL8X5",
        "outputId": "b5023dde-0518-4b44-ad77-5178178ad561"
      },
      "outputs": [
        {
          "name": "stdout",
          "output_type": "stream",
          "text": [
            "[15 25]\n"
          ]
        }
      ],
      "source": [
        "a = np.array([10, 15, 20, 25, 30, 35, 40])\n",
        "print(a[1:4:2]) # should print [15 25] must use a"
      ]
    },
    {
      "cell_type": "markdown",
      "metadata": {
        "id": "l58yqfWlMe0F"
      },
      "source": [
        "# 12. slice out every other item from the entire array"
      ]
    },
    {
      "cell_type": "code",
      "execution_count": null,
      "metadata": {
        "colab": {
          "base_uri": "https://localhost:8080/"
        },
        "id": "hnJ77H1sMirr",
        "outputId": "701d69b0-af66-4444-d4f9-d0fdc9a3b697"
      },
      "outputs": [
        {
          "name": "stdout",
          "output_type": "stream",
          "text": [
            "[10 20 30 40]\n"
          ]
        }
      ],
      "source": [
        "a = np.array([10, 15, 20, 25, 30, 35, 40])\n",
        "print(a[::2]) # should print [10 20 30 40] must use a"
      ]
    },
    {
      "cell_type": "markdown",
      "metadata": {
        "id": "fKuP3ejEHJPJ"
      },
      "source": [
        "# 13. insert correct syntax to print the datatype of an arra"
      ]
    },
    {
      "cell_type": "code",
      "execution_count": null,
      "metadata": {
        "colab": {
          "base_uri": "https://localhost:8080/"
        },
        "id": "qrvCC_lpHRmW",
        "outputId": "04e22c14-8745-4af4-a2cd-d2c14cbb91a4"
      },
      "outputs": [
        {
          "name": "stdout",
          "output_type": "stream",
          "text": [
            "int64\n",
            "<class 'numpy.int64'>\n"
          ]
        }
      ],
      "source": [
        "a = np.array([1, 2, 3])\n",
        "print(a.dtype) # should print something indicating this is an array of integers\n",
        "print(type(a[0])) # should print something indicating this is an array of integers"
      ]
    },
    {
      "cell_type": "markdown",
      "metadata": {
        "id": "MLe6WhBhIiKl"
      },
      "source": [
        "# 14. insert the correct argument to specify that array should be of type STRING"
      ]
    },
    {
      "cell_type": "code",
      "execution_count": null,
      "metadata": {
        "colab": {
          "base_uri": "https://localhost:8080/"
        },
        "id": "zcskMkhmLqeu",
        "outputId": "856d5dd2-a9dd-4d82-a93c-892ecda2d34b"
      },
      "outputs": [
        {
          "name": "stdout",
          "output_type": "stream",
          "text": [
            "<U1\n",
            "12\n",
            "9\n",
            "513\n"
          ]
        }
      ],
      "source": [
        "a = np.array([1, 2, 3, 4], dtype= 'str' )\n",
        "\n",
        "#     then predict and explain the output for the following expressions\n",
        "\n",
        "print(a.dtype) #String/ str/  U5\n",
        "print(a[0] + a[1]) #12\n",
        "a = np.array([5, 1, -1, 3], dtype='str')\n",
        "b = a.astype('i') # what happens here? Converts back to integer\n",
        "print(b[0] + b[1] + b[3]) #9\n",
        "print(a[0] + a[1] + a[3]) #Since still string it is 513"
      ]
    },
    {
      "cell_type": "markdown",
      "metadata": {
        "id": "gDlTSldb71nd"
      },
      "source": [
        "# 15. insert correct method to change data type to integer\n"
      ]
    },
    {
      "cell_type": "code",
      "execution_count": null,
      "metadata": {
        "colab": {
          "base_uri": "https://localhost:8080/"
        },
        "id": "zqZw_A1e83Y3",
        "outputId": "4883fdf0-0eec-4187-e7b4-fc05b9041057"
      },
      "outputs": [
        {
          "name": "stdout",
          "output_type": "stream",
          "text": [
            "[1 2 3]\n"
          ]
        }
      ],
      "source": [
        "a = np.array([1.1, 2.1, 3.1])\n",
        "b = a.astype('i')\n",
        "print(b) # should print [1 2 3] now"
      ]
    },
    {
      "cell_type": "markdown",
      "metadata": {
        "id": "rDZKZKIV9Cm1"
      },
      "source": [
        "# 16. use the correct method to make a copy of the array"
      ]
    },
    {
      "cell_type": "code",
      "execution_count": null,
      "metadata": {
        "colab": {
          "base_uri": "https://localhost:8080/"
        },
        "id": "J2DXw0i59BsW",
        "outputId": "17d2fe11-950c-45b1-88f0-34e7a851f3f4"
      },
      "outputs": [
        {
          "name": "stdout",
          "output_type": "stream",
          "text": [
            "[1 2 3 4 5]\n",
            "[1 2 3 4 5]\n",
            "[-25   2   3   4   5]\n"
          ]
        }
      ],
      "source": [
        "a = np.array([1, 2, 3, 4, 5])\n",
        "x = a.copy()\n",
        "\n",
        "#     then predict the effect of the following expressions\n",
        "\n",
        "x[0] = -5\n",
        "print(a) # does a see the change? No\n",
        "b = a\n",
        "b[0] = -25\n",
        "print(a) # does a see the change? Yes\n"
      ]
    },
    {
      "cell_type": "markdown",
      "metadata": {
        "id": "d73xI-z9AzpA"
      },
      "source": [
        "# 17. use the correct method to make a view of this array:"
      ]
    },
    {
      "cell_type": "code",
      "execution_count": 6,
      "metadata": {
        "colab": {
          "base_uri": "https://localhost:8080/"
        },
        "id": "LFAD77e3A3NT",
        "outputId": "9107b644-45ea-4a1e-af9f-b235e9e38cff"
      },
      "outputs": [
        {
          "name": "stdout",
          "output_type": "stream",
          "text": [
            "None\n",
            "[1 2 3 4 5]\n",
            "None\n",
            "None\n"
          ]
        }
      ],
      "source": [
        "a = np.array([1, 2, 3, 4, 5])\n",
        "d = a.view()\n",
        "\n",
        "#     then predict the effect of these expressions:\n",
        "\n",
        "print(a.base)\n",
        "print(d.base) # why is this different from all the others?\n",
        "#The .view function works by assoiating another variable with the same array. So when you make changes to one variable that is associated to that array you make changes to all arrays. This means that the array itself is the base for the variable thus it is different.\n",
        "b = a\n",
        "print(b.base)\n",
        "c = a.copy()\n",
        "print(c.base)"
      ]
    },
    {
      "cell_type": "markdown",
      "metadata": {
        "id": "zAjusqdxLA-J"
      },
      "source": [
        "# 18.predict (and explain) the outcome of these expressions"
      ]
    },
    {
      "cell_type": "code",
      "execution_count": 13,
      "metadata": {
        "colab": {
          "base_uri": "https://localhost:8080/"
        },
        "id": "4290VnojLDlb",
        "outputId": "bbcbeb5e-a5fe-45c9-feac-933362f44d6b"
      },
      "outputs": [
        {
          "name": "stdout",
          "output_type": "stream",
          "text": [
            "(4,)\n",
            "[[1 2 3 4]]\n",
            "[[1 2]\n",
            " [3 4]]\n",
            "[[1]\n",
            " [2]\n",
            " [3]\n",
            " [4]]\n"
          ]
        }
      ],
      "source": [
        "a = np.array([1, 2, 3, 4])\n",
        "print(a.shape)# 4 because there are four items in the array.\n",
        "a.reshape(1, 4)\n",
        "print(a.reshape(1,4)) #1 array with 4 colums\n",
        "a.reshape(2, 2) \n",
        "print(a.reshape(2,2)) #2 x 2\n",
        "a.reshape(4, 1)\n",
        "print(a.reshape(4,1)) #4 x 1\n"
      ]
    },
    {
      "cell_type": "markdown",
      "metadata": {
        "id": "g1zQ1bCMSKrG"
      },
      "source": [
        " # 19. use the correct numpy method to change the shape of an array from 1-D to 2-D:"
      ]
    },
    {
      "cell_type": "code",
      "execution_count": 14,
      "metadata": {
        "colab": {
          "base_uri": "https://localhost:8080/"
        },
        "id": "yZEoFe5ZepUL",
        "outputId": "94fd5dd0-cce6-45da-eb88-28af81963cc2"
      },
      "outputs": [
        {
          "name": "stdout",
          "output_type": "stream",
          "text": [
            "[[1 2]\n",
            " [3 4]]\n"
          ]
        }
      ],
      "source": [
        "a = np.array([1, 2, 3, 4])\n",
        "a = a.reshape(2,2) # write code here must use a\n",
        "print(a) # must print [[1, 2] [3 4]]"
      ]
    },
    {
      "cell_type": "code",
      "execution_count": 15,
      "metadata": {
        "colab": {
          "base_uri": "https://localhost:8080/"
        },
        "id": "4dayFLVte-TI",
        "outputId": "611ef0b2-9308-4324-e3f7-81f482e7ac09"
      },
      "outputs": [
        {
          "name": "stdout",
          "output_type": "stream",
          "text": [
            "[[ 1  2  3]\n",
            " [ 4  5  6]\n",
            " [ 7  8  9]\n",
            " [10 11 12]]\n",
            "[[ 1  2  3  4]\n",
            " [ 5  6  7  8]\n",
            " [ 9 10 11 12]]\n"
          ]
        }
      ],
      "source": [
        "#     now predict and explain the output of these expressions \n",
        "\n",
        "a = np.array([1, 2, 3, 4, 5, 6, 7, 8, 9, 10, 11, 12])\n",
        "b = a.reshape(4, 3) #Splits the single array into 4 different arrays \n",
        "print(b)\n",
        "b = a.reshape(3, 4) #splits single a array into 3 arrays with a length of 4\n",
        "print(b)\n"
      ]
    },
    {
      "cell_type": "markdown",
      "metadata": {
        "id": "30e6vLHhhhPu"
      },
      "source": [
        "# 20. use correct numpy method to change shape of an array from 2-D to 1-D"
      ]
    },
    {
      "cell_type": "code",
      "execution_count": 18,
      "metadata": {
        "colab": {
          "base_uri": "https://localhost:8080/"
        },
        "id": "fDVbJJIYhnAC",
        "outputId": "10362df9-6b29-4306-9b0f-76994e30066c"
      },
      "outputs": [
        {
          "name": "stdout",
          "output_type": "stream",
          "text": [
            "[ 1  2  3  4  5  6  7  8  9 10 11 12]\n"
          ]
        }
      ],
      "source": [
        "a = np.array([[1, 2, 3, 4, 5, 6], [7, 8, 9, 10, 11, 12]])\n",
        "b = a.reshape(-1) # complete this statement to result in the output below\n",
        "print(b) # must print [ 1  2  3  4  5  6  7  8  9 10 11 12]"
      ]
    },
    {
      "cell_type": "markdown",
      "metadata": {
        "id": "iUvMFErBiKfh"
      },
      "source": [
        "# 21. use a correct numpy method to join two arrays into a single array"
      ]
    },
    {
      "cell_type": "code",
      "execution_count": 22,
      "metadata": {
        "colab": {
          "base_uri": "https://localhost:8080/"
        },
        "id": "PgQJ3RHGjQBE",
        "outputId": "4e4570fc-d2d7-4031-813f-d5d242a84d75"
      },
      "outputs": [
        {
          "name": "stdout",
          "output_type": "stream",
          "text": [
            "[1 2 3 4 5 6]\n",
            "[[1 2 5 6]\n",
            " [3 4 7 8]]\n",
            "[[[1 2]\n",
            "  [3 4]]\n",
            "\n",
            " [[5 6]\n",
            "  [7 8]]]\n"
          ]
        }
      ],
      "source": [
        "a = np.array([1, 2, 3])\n",
        "b = np.array([4, 5, 6])\n",
        "c = np.append(a,b) # use np, a and b somehow \n",
        "print(c) # must print [1 2 3 4 5 6]\n",
        "\n",
        "#     then predict and explain the outcome of the following expressions\n",
        "\n",
        "a = np.array([[1, 2], [3, 4]])\n",
        "b = np.array([[5, 6], [7, 8]])\n",
        "c = np.concatenate((a, b), axis=1) # what is the effect of the second parameter? \n",
        "print(c) # what gets printed and why? one array that is filled with numbers the numbers from the first array for the variable and a second array that is filled witht hte numbers from the second variable.\n",
        "c  = np.stack((a, b), axis = 0) # what does stack do differently (if anything)? Stacking doesn't mesh the numbers together it just makes a new array where the inputs are elements of the new array/\n",
        "print(c) # what gets printed and why? \n"
      ]
    },
    {
      "cell_type": "markdown",
      "metadata": {
        "id": "MH8E4GkMzcP6"
      },
      "source": [
        "# 22. use correct numpy syntax to find all items with value 4"
      ]
    },
    {
      "cell_type": "code",
      "execution_count": 23,
      "metadata": {
        "colab": {
          "base_uri": "https://localhost:8080/"
        },
        "id": "MX8cbOl3zf4p",
        "outputId": "99b72e7c-ee7d-4029-b5d4-f929c2a2435f"
      },
      "outputs": [
        {
          "name": "stdout",
          "output_type": "stream",
          "text": [
            "(array([3, 5, 6]),)\n"
          ]
        }
      ],
      "source": [
        "a = np.array([1, 2, 3, 4, 5, 4, 4])\n",
        "where = np.where(a == 4,) # complete statement, must use np, a and 4\n",
        "print(where) # must print (array([3, 5, 6]),)"
      ]
    },
    {
      "cell_type": "markdown",
      "metadata": {
        "id": "WR4FCXY3Rrtp"
      },
      "source": [
        "# 23. use the correct numpy method to return a sorted array"
      ]
    },
    {
      "cell_type": "code",
      "execution_count": 25,
      "metadata": {
        "colab": {
          "base_uri": "https://localhost:8080/"
        },
        "id": "ZcZ6_p3LRukC",
        "outputId": "23e7b1a3-4031-4b68-d5e4-501cea31daa7"
      },
      "outputs": [
        {
          "name": "stdout",
          "output_type": "stream",
          "text": [
            "[0 1 2 3]\n"
          ]
        }
      ],
      "source": [
        "a = np.array([3, 2, 0, 1])\n",
        "b = np.sort(a) # complete statement, must use np and a\n",
        "print(b) # must print [0 1 2 3] "
      ]
    },
    {
      "cell_type": "markdown",
      "metadata": {
        "id": "NfCf0jxwSmc4"
      },
      "source": [
        "# 24. solve exercise 3-1 on page 57\n",
        "\n",
        "Go back to the taxation example in “Basic Two-Dimensional Array Arithmetic” on page 42 and pull the name of the person with the highest salary from\n",
        "the matrix by using this idea of selective Boolean indexing. Problem recap: How do we find the person with maximum after-tax income in a group of people, given their yearly salary and tax rates?\n"
      ]
    },
    {
      "cell_type": "code",
      "execution_count": 18,
      "metadata": {
        "colab": {
          "base_uri": "https://localhost:8080/"
        },
        "id": "tnAW-Y4XS0gE",
        "outputId": "9d1eada6-a5e2-4235-c84d-1a4023c4a746"
      },
      "outputs": [
        {
          "name": "stdout",
          "output_type": "stream",
          "text": [
            "81.0\n"
          ]
        }
      ],
      "source": [
        "\n",
        "## Data: yearly salary in ($1000) [2017, 2018, 2019]\n",
        "alice = [99, 101, 103]\n",
        "bob = [110, 108, 105]\n",
        "tim = [90, 88, 85]\n",
        "names = [\"alice\",\"bob\",\"tim\"]\n",
        "salaries = np.array([alice, bob, tim])\n",
        "taxation = np.array([[0.2, 0.25, 0.22],\n",
        "                     [0.4, 0.5, 0.5],\n",
        "                     [0.1, 0.2, 0.1]])\n",
        "income = salaries -salaries*taxation\n",
        "## One-liner\n",
        "max_income = np.max(salaries - salaries * taxation)\n",
        "## Result\n",
        "print(max_income)"
      ]
    },
    {
      "cell_type": "code",
      "execution_count": 13,
      "metadata": {
        "colab": {
          "base_uri": "https://localhost:8080/"
        },
        "id": "asDNQDL9SRaI",
        "outputId": "1a71c2dc-0627-4878-a6d9-3b4acfe33000"
      },
      "outputs": [
        {
          "data": {
            "text/plain": [
              "array([[79.2 , 75.75, 80.34],\n",
              "       [66.  , 54.  , 52.5 ],\n",
              "       [81.  , 70.4 , 76.5 ]])"
            ]
          },
          "execution_count": 13,
          "metadata": {},
          "output_type": "execute_result"
        }
      ],
      "source": [
        "income"
      ]
    },
    {
      "cell_type": "code",
      "execution_count": 19,
      "metadata": {
        "colab": {
          "base_uri": "https://localhost:8080/"
        },
        "id": "_970SQzNSTK6",
        "outputId": "518637eb-2fb2-4685-ae31-9e784ac8a231"
      },
      "outputs": [
        {
          "name": "stdout",
          "output_type": "stream",
          "text": [
            "[2 0 0]\n",
            "tim\n",
            "alice\n",
            "alice\n"
          ]
        }
      ],
      "source": [
        "print(np.argmax(income, axis = 1))\n",
        "indexes = np.argmax(income, axis = 1)\n",
        "for i in indexes:\n",
        "  print(names[i])"
      ]
    },
    {
      "cell_type": "markdown",
      "metadata": {
        "id": "HSgj1A5kdlEA"
      },
      "source": [
        "# 25. predict and explain the effect of the following expressions"
      ]
    },
    {
      "cell_type": "code",
      "execution_count": 5,
      "metadata": {
        "colab": {
          "base_uri": "https://localhost:8080/"
        },
        "id": "5-eKoYrXdoCh",
        "outputId": "95b207dc-8232-4175-c7ec-3a6eba5ce141"
      },
      "outputs": [
        {
          "name": "stdout",
          "output_type": "stream",
          "text": [
            "[[3. 4.]\n",
            " [5. 6.]]\n",
            "[[2. 3.]\n",
            " [6. 7.]]\n",
            "[[1.5 3.5]\n",
            " [5.5 7.5]]\n"
          ]
        }
      ],
      "source": [
        "a = np.array([[[1, 2], [3, 4]], [[5, 6], [7, 8]]])\n",
        "print(np.average(a, axis=0)) # Axis 0 looks at all the columns of the matrices and then the avg function averages them out.\n",
        "print(np.average(a, axis=1)) # Axis 1 Looks at the numbers in the second dimension and then then add's them respectively. Ex. 1 + 3 /2\n",
        "print(np.average(a, axis=2)) # Axis 2 Looks at the numbers in the first dimension and then averages them to get the final matrix."
      ]
    },
    {
      "cell_type": "markdown",
      "metadata": {
        "id": "XW8hugJkeR0h"
      },
      "source": [
        "# 26. predict and explain the effect of the following expressions"
      ]
    },
    {
      "cell_type": "code",
      "execution_count": 9,
      "metadata": {
        "colab": {
          "base_uri": "https://localhost:8080/"
        },
        "id": "RGljxu1feUkS",
        "outputId": "8abcca5c-7277-456a-8ac8-ac872990dd15"
      },
      "outputs": [
        {
          "name": "stdout",
          "output_type": "stream",
          "text": [
            "[[[ 1  2  3]\n",
            "  [ 4  5  6]\n",
            "  [ 7  8  9]]\n",
            "\n",
            " [[11 12 10]\n",
            "  [13 14 15]\n",
            "  [16 17 18]]\n",
            "\n",
            " [[19 20 21]\n",
            "  [22 23 24]\n",
            "  [25 26 27]]]\n",
            "[[[ 1  2  3]\n",
            "  [ 7  5  6]\n",
            "  [22  8  9]]\n",
            "\n",
            " [[ 4 12 10]\n",
            "  [11 14 15]\n",
            "  [16 17 18]]\n",
            "\n",
            " [[13 20 21]\n",
            "  [19 23 24]\n",
            "  [25 26 27]]]\n",
            "[[[ 1  2  3]\n",
            "  [ 5  6 22]\n",
            "  [ 7  8  9]]\n",
            "\n",
            " [[10 11 12]\n",
            "  [ 4 14 15]\n",
            "  [16 17 18]]\n",
            "\n",
            " [[19 20 21]\n",
            "  [13 23 24]\n",
            "  [25 26 27]]]\n"
          ]
        }
      ],
      "source": [
        "a = np.array([[[ 1,  2,  3], [22,  5,  6], [ 7,  8,  9]],\n",
        "              [[11, 12, 10], [ 4, 14, 15], [16, 17, 18]],\n",
        "              [[19, 20, 21], [13, 23, 24], [25, 26, 27]]])\n",
        "\n",
        "b = np.sort(a, axis=0) # organizes the array column by column. Then Then the samlles number goes in the first depth array and so on...\n",
        "print(b) # what gets printed and why? It organizes the array column by column this occurs as we are sorting by axis 0.\n",
        "c = np.sort(a, axis=1) # Organizes each array by row so the smallest first number in the array comes first and that finishes the first of the 3 depth arrays and then this repeats.\n",
        "print(c)\n",
        "d = np.sort(a, axis=2) #The second dimension stay in the same position but since axis 2 is focused on depth it re-orders the nubers in the 1st dimenson array so then are in order.\n",
        "print(d)\n"
      ]
    }
  ],
  "metadata": {
    "colab": {
      "provenance": []
    },
    "kernelspec": {
      "display_name": "Python 3",
      "name": "python3"
    },
    "language_info": {
      "name": "python"
    }
  },
  "nbformat": 4,
  "nbformat_minor": 0
}
