{
 "cells": [
  {
   "cell_type": "code",
   "execution_count": 2,
   "metadata": {},
   "outputs": [
    {
     "name": "stdout",
     "output_type": "stream",
     "text": [
      "Chance of streak: 81.25%\n"
     ]
    }
   ],
   "source": [
    "import random\n",
    "\n",
    "numberOfStreaks = 0\n",
    "#print(\"test\")\n",
    "for experimentNumber in range(10000):\n",
    "    # Code that creates a list of 100 'heads' or 'tails' values.\n",
    "    #print(\"test\")\n",
    "    coins = []\n",
    "    #print(\"Test\")\n",
    "    for i in range(100):\n",
    "        #print('if loop test')\n",
    "        if random.randint(0,1) == 0:\n",
    "            coins += 'H'\n",
    "        else: \n",
    "            coins += 'T'\n",
    "        coins = ''.join(coins)\n",
    "    # Code that checks if there is a streak of 6 heads or tails in a row.\n",
    "    if \"H\" * 6 in coins or \"T\" * 6 in coins:\n",
    "        numberOfStreaks += 1\n",
    "print('Chance of streak: %s%%' % (numberOfStreaks / 100))"
   ]
  },
  {
   "cell_type": "code",
   "execution_count": 3,
   "metadata": {},
   "outputs": [],
   "source": [
    "def perm(word):\n",
    "    answer = []\n",
    "    for i in range(len(word)):\n",
    "        letter = word[i]\n",
    "        remaining = word[:i] + word[i + 1:]\n",
    "        print(letter + \" followed by permutations of (\" + remaining + \")\")\n",
    "        a = perm(remaining)\n",
    "        for word in a:\n",
    "            answer = answer + [letter + word]\n",
    "    return answer\n",
    "    "
   ]
  },
  {
   "cell_type": "code",
   "execution_count": 4,
   "metadata": {},
   "outputs": [
    {
     "name": "stdout",
     "output_type": "stream",
     "text": [
      "(3  .  (5 (4  .   . )  . ))\n",
      "Remove 5 the tree becomes: (3  .  (4  .   . ))\n"
     ]
    }
   ],
   "source": [
    "def largestIn(tree):\n",
    "    if tree.right == None:\n",
    "        return tree.value\n",
    "    else:\n",
    "        return largestIn(tree.right)\n",
    "\n",
    "class Tree:\n",
    "    def __init__(self, value, left, right):\n",
    "        (self.value, self.left, self.right) = (value, left, right)\n",
    "    def show(self):\n",
    "        if self.left == None:\n",
    "            left = \" . \"\n",
    "        else:\n",
    "            left = self.left.show()\n",
    "        if self.right == None:\n",
    "            right = \" . \"\n",
    "        else:\n",
    "            right = self.right.show()\n",
    "        # return \"(\" + left + \" \" + str(self.value) + \" \" + right + \")\"\n",
    "        return \"(\" + str(self.value) + \" \" + left + \" \" + right + \")\"\n",
    "    def remove(self, value):\n",
    "        if self.value == value:\n",
    "            if self.left == None:\n",
    "                return self.right\n",
    "            else:\n",
    "                a = largestIn(self.left)\n",
    "                return Tree(a, self.left.remove(a), self.right)\n",
    "        elif self.value > value: # I assume the value can be found in \n",
    "            return Tree(self.value, self.left.remove(value), self.right)\n",
    "        else: # if the value does not exist the code needs to protect itself against that \n",
    "            return Tree(self.value, self.left, self.right.remove(value))\n",
    "\n",
    "\n",
    "def main():\n",
    "    a = Tree(3, None, None)\n",
    "    a.right = Tree(5, None, None)\n",
    "    a.right.left = Tree(4, None, None)\n",
    "    print(a.show()) # (3 . (5 (4 . .) .))\n",
    "    b = a.remove(5)\n",
    "    print(\"Remove 5 the tree becomes: \" + b.show())\n",
    "\n",
    "if __name__==\"__main__\":\n",
    "    main()\n",
    "\n",
    "# Python 3.10.2 (v3.10.2:a58ebcc701, Jan 13 2022, 14:50:16) [Clang 13.0.0 (clang-1300.0.29.30)] on darwin\n",
    "# Type \"help\", \"copyright\", \"credits\" or \"license()\" for more information.\n",
    "# \n",
    "# ==================================== RESTART: /Users/dgerman/Desktop/michael.py ====================================\n",
    "# (3  .  (5 (4  .   . )  . ))\n",
    "# Remove 5 the tree becomes: (3  .  (4  .   . ))"
   ]
  },
  {
   "cell_type": "code",
   "execution_count": 5,
   "metadata": {},
   "outputs": [
    {
     "ename": "SyntaxError",
     "evalue": "EOF while scanning triple-quoted string literal (3815439750.py, line 13)",
     "output_type": "error",
     "traceback": [
      "\u001b[0;36m  Cell \u001b[0;32mIn[5], line 13\u001b[0;36m\u001b[0m\n\u001b[0;31m    \"\"\"\"\"\"\"\"\u001b[0m\n\u001b[0m            \n^\u001b[0m\n\u001b[0;31mSyntaxError\u001b[0m\u001b[0;31m:\u001b[0m EOF while scanning triple-quoted string literal\n"
     ]
    }
   ],
   "source": [
    "  \"\"\"\"\"\"\"\"\"\n",
    "    def remove(self, key):\n",
    "        if self.key == key:\n",
    "            if self.left == None:\n",
    "                return self.right\n",
    "            else:\n",
    "                a = largestIn(self.left)\n",
    "                return BstNode(a, self.left.remove(a), self.right)\n",
    "        elif self.key > key: # I assume the key can be found in \n",
    "            return BstNode(self.key, self.left.remove(key), self.right)\n",
    "        else: # if the key does not exist the code needs to protect itself against that \n",
    "            return BstNode(self.key, self.left, self.right.remove(key))\n",
    "    \"\"\"\"\"\"\"\""
   ]
  },
  {
   "cell_type": "code",
   "execution_count": null,
   "metadata": {},
   "outputs": [
    {
     "name": "stdout",
     "output_type": "stream",
     "text": [
      "(3  .  (5 (4  .   . )  . ))\n",
      "Remove 5 the tree becomes: (3  .  (4  .   . ))\n"
     ]
    }
   ],
   "source": [
    "def largestIn(tree):\n",
    "    if tree.right == None:\n",
    "        return tree.value\n",
    "    else:\n",
    "        return largestIn(tree.right)\n",
    "\n",
    "class Tree:\n",
    "    def __init__(self, value, left, right):\n",
    "        (self.value, self.left, self.right) = (value, left, right)\n",
    "    def show(self):\n",
    "        if self.left == None:\n",
    "            left = \" . \"\n",
    "        else:\n",
    "            left = self.left.show()\n",
    "        if self.right == None:\n",
    "            right = \" . \"\n",
    "        else:\n",
    "            right = self.right.show()\n",
    "        # return \"(\" + left + \" \" + str(self.value) + \" \" + right + \")\"\n",
    "        return \"(\" + str(self.value) + \" \" + left + \" \" + right + \")\"\n",
    "    def remove(self, value):\n",
    "        if self.value == value:\n",
    "            if self.left == None:\n",
    "                return self.right\n",
    "            else:\n",
    "                a = largestIn(self.left)\n",
    "                return Tree(a, self.left.remove(a), self.right)\n",
    "        elif self.value > value: # I assume the value can be found in \n",
    "            return Tree(self.value, self.left.remove(value), self.right)\n",
    "        else: # if the value does not exist the code needs to protect itself against that \n",
    "            return Tree(self.value, self.left, self.right.remove(value))\n",
    "\n",
    "\n",
    "def main():\n",
    "    a = Tree(3, None, None)\n",
    "    a.right = Tree(5, None, None)\n",
    "    a.right.left = Tree(4, None, None)\n",
    "    print(a.show()) # (3 . (5 (4 . .) .))\n",
    "    b = a.remove(5)\n",
    "    print(\"Remove 5 the tree becomes: \" + b.show())\n",
    "\n",
    "if __name__==\"__main__\":\n",
    "    main()\n",
    "\n",
    "# Python 3.10.2 (v3.10.2:a58ebcc701, Jan 13 2022, 14:50:16) [Clang 13.0.0 (clang-1300.0.29.30)] on darwin\n",
    "# Type \"help\", \"copyright\", \"credits\" or \"license()\" for more information.\n",
    "# \n",
    "# ==================================== RESTART: /Users/dgerman/Desktop/michael.py ====================================\n",
    "# (3  .  (5 (4  .   . )  . ))\n",
    "# Remove 5 the tree becomes: (3  .  (4  .   . ))"
   ]
  }
 ],
 "metadata": {
  "kernelspec": {
   "display_name": "Python 3",
   "language": "python",
   "name": "python3"
  },
  "language_info": {
   "codemirror_mode": {
    "name": "ipython",
    "version": 3
   },
   "file_extension": ".py",
   "mimetype": "text/x-python",
   "name": "python",
   "nbconvert_exporter": "python",
   "pygments_lexer": "ipython3",
   "version": "3.9.6 (default, Oct 18 2022, 12:41:40) \n[Clang 14.0.0 (clang-1400.0.29.202)]"
  },
  "orig_nbformat": 4,
  "vscode": {
   "interpreter": {
    "hash": "31f2aee4e71d21fbe5cf8b01ff0e069b9275f58929596ceb00d14d90e3e16cd6"
   }
  }
 },
 "nbformat": 4,
 "nbformat_minor": 2
}
