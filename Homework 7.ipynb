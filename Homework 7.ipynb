{
 "cells": [
  {
   "cell_type": "markdown",
   "metadata": {},
   "source": [
    "Homework 7"
   ]
  },
  {
   "cell_type": "markdown",
   "metadata": {},
   "source": [
    "Chapter 6 Code: This focuses on trying to optimize the Travelling Salesman Problem. The TSP problem is where there is a salesman and he doesn't know how to organize his travel between n number or cities so that he can minimize travel costs."
   ]
  },
  {
   "cell_type": "code",
   "execution_count": 18,
   "metadata": {},
   "outputs": [
    {
     "name": "stdout",
     "output_type": "stream",
     "text": [
      "[(0.21215859519373315, 0.1421890509660515), (0.25901824052776146, 0.4415438502354807)]\n"
     ]
    }
   ],
   "source": [
    "import numpy as np\n",
    "random_seed = 1729\n",
    "np.random.seed(random_seed)\n",
    "N = 40\n",
    "x = np.random.rand(N)\n",
    "y = np.random.rand(N)\n",
    "\n",
    "\n",
    "# Set up points\n",
    "points = zip(x,y)\n",
    "cities = list(points)\n",
    "itinerary = list(range(0,N))\n",
    "\n",
    "\n",
    "# Lines displays the coordinates in the connection\n",
    "lines = []\n",
    "\n",
    "for j in range(0,len(itinerary) - 1):\n",
    "  lines.append([cities[itinerary[j]],cities[itinerary[j + 1]]])\n",
    "\n",
    "print(lines[0])\n",
    "\n"
   ]
  },
  {
   "cell_type": "markdown",
   "metadata": {},
   "source": [
    "The point of the previous code is to start mapping points in order to create an optimal path. The next set of code will create a visualization in terms of the lines that connect the points."
   ]
  },
  {
   "cell_type": "code",
   "execution_count": 19,
   "metadata": {},
   "outputs": [
    {
     "name": "stdout",
     "output_type": "stream",
     "text": [
      "16.808756356994223\n"
     ]
    }
   ],
   "source": [
    "# This for generating the lines in the form of a graph\n",
    "def genlines(cities,itinerary):\n",
    "  lines = []\n",
    "  for j in range(0,len(itinerary) - 1):\n",
    "    lines.append([cities[itinerary[j]],cities[itinerary[j + 1]]])\n",
    "  return(lines)\n",
    "\n",
    "# Using pythagorean theorem to calculate the distance via the latitutde and longitude data\n",
    "import math\n",
    "\n",
    "def howfar(lines):\n",
    "  distance = 0\n",
    "  for j in range(0,len(lines)):\n",
    "    \n",
    "    distance += math.sqrt(abs(lines[j][1][0] - lines[j][0][0])**2 + \\\n",
    "    abs(lines[j][1][1] - lines[j][0][1])**2)\n",
    "  return(distance)\n",
    "\n",
    "totaldistance = howfar(genlines(cities,itinerary))\n",
    "print(totaldistance)"
   ]
  },
  {
   "cell_type": "markdown",
   "metadata": {},
   "source": [
    "Creating a first graph"
   ]
  },
  {
   "cell_type": "code",
   "execution_count": 22,
   "metadata": {},
   "outputs": [],
   "source": [
    "import matplotlib.collections as mc\n",
    "import matplotlib.pylab as pl\n",
    "def plotitinerary(cities,itin,plottitle,thename):\n",
    "  lc = mc.LineCollection(genlines(cities,itin), linewidths=2)\n",
    "  fig, ax = pl.subplots()\n",
    "  ax.add_collection(lc)\n",
    "  ax.autoscale()\n",
    "  ax.margins(0.1)\n",
    "  pl.scatter(x, y)\n",
    "  pl.title(plottitle)\n",
    "  pl.xlabel('X Coordinate')\n",
    "  pl.ylabel('Y Coordinate')\n",
    "  pl.savefig(str(thename) + '.png')\n",
    "  pl.close()\n"
   ]
  },
  {
   "cell_type": "code",
   "execution_count": 9,
   "metadata": {},
   "outputs": [],
   "source": [
    "plotitinerary(cities,itinerary, 'TSP-random Itinerary', 'figure1')"
   ]
  },
  {
   "cell_type": "markdown",
   "metadata": {},
   "source": [
    "We learn about a Brute-Force method that focuses on calculating the distance of each and every permutation (in this case 40!) to find the optimal solution. The purpose of the following algorithms is to find alternatives to the brute force."
   ]
  },
  {
   "cell_type": "code",
   "execution_count": 10,
   "metadata": {},
   "outputs": [],
   "source": [
    "# Nearest Neighbor- looking at the nearest neighbor to reduce the distance \n",
    "point = [0.5,0.5]\n",
    "j = 10\n",
    "distance = math.sqrt((point[0] - cities[j][0])**2 + (point[1] - cities[j][1])**2)"
   ]
  },
  {
   "cell_type": "code",
   "execution_count": 11,
   "metadata": {},
   "outputs": [
    {
     "name": "stdout",
     "output_type": "stream",
     "text": [
      "0.46593711461098514\n"
     ]
    }
   ],
   "source": [
    "# Find nearest algorithm look for the nearest \n",
    "def findnearest(cities,idx,nnitinerary):\n",
    "  point = cities[idx]\n",
    "  mindistance = float('inf')\n",
    "  minidx = - 1\n",
    "  for j in range(0,len(cities)):\n",
    "    distance = math.sqrt((point[0] - cities[j][0])**2 + (point[1] - cities[j][1])**2)\n",
    "    if distance < mindistance and distance > 0 and j not in nnitinerary:\n",
    "      mindistance = distance\n",
    "      minidx = j\n",
    "    return(minidx)\n",
    "  \n",
    "\n",
    "# Create a new itinerary based on the find nearest function\n",
    "nnitinerary = [cities[0]]\n",
    "\n",
    "def donn(cities,N):\n",
    "  nnitinerary = [0]\n",
    "  for j in range(0,N - 1):\n",
    "    next = findnearest(cities,nnitinerary[len(nnitinerary) - 1],nnitinerary)\n",
    "    nnitinerary.append(next)\n",
    "  return(nnitinerary)\n",
    "\n",
    "\n",
    "# print(donn(cities,N))\n",
    "\n",
    "# Plot the new itinerary\n",
    "plotitinerary(cities,donn(cities,N),'TSP - Nearest Neighbor','figure3')\n",
    "\n",
    "# Calculating the distance\n",
    "print(howfar(genlines(cities,donn(cities,N))))"
   ]
  },
  {
   "cell_type": "markdown",
   "metadata": {},
   "source": [
    "Something is not right in the code that was provided. It has something to do with the donn function in the for loop."
   ]
  },
  {
   "cell_type": "code",
   "execution_count": 15,
   "metadata": {},
   "outputs": [
    {
     "name": "stdout",
     "output_type": "stream",
     "text": [
      "16.808756356994223\n",
      "16.791583620116665\n"
     ]
    }
   ],
   "source": [
    "# Testing different itineraries\n",
    "initial_itinerary = [0,1,2,3,4,5,6,7,8,9,10,11,12,13,14,15,16,17,18,19,20,21,22,23,24,25,26, 27,28,29,30,31,32,33,34,35,36,37,38,39]\n",
    "\n",
    "new_itinerary = [0,1,2,3,4,5,30,7,8,9,10,11,12,13,14,15,16,17,18,19,20,21,22,23,24,25,26,27, 28,29,6,31,32,33,34,35,36,37,38,39]\n",
    "\n",
    "print(howfar(genlines(cities,initial_itinerary)))\n",
    "print(howfar(genlines(cities,new_itinerary)))"
   ]
  },
  {
   "cell_type": "markdown",
   "metadata": {},
   "source": [
    "The next function follows the idea of swapping two places and finding anyway to reduce total distance."
   ]
  },
  {
   "cell_type": "code",
   "execution_count": 18,
   "metadata": {},
   "outputs": [],
   "source": [
    "def perturb(cities,itinerary):\n",
    "  neighborids1 = math.floor(np.random.rand() * (len(itinerary)))\n",
    "  neighborids2 = math.floor(np.random.rand() * (len(itinerary)))\n",
    "\n",
    "  itinerary2 = itinerary.copy()\n",
    "\n",
    "  itinerary2[neighborids1] = itinerary[neighborids2]\n",
    "  itinerary2[neighborids2] = itinerary[neighborids1]\n",
    "\n",
    "  distance1 = howfar(genlines(cities,itinerary))\n",
    "  distance2 = howfar(genlines(cities,itinerary2))\n",
    "\n",
    "  itinerarytoreturn = itinerary.copy()\n",
    "\n",
    "  if(distance1 > distance2):\n",
    "    itinerarytoreturn = itinerary2.copy()\n",
    "\n",
    "  return(itinerarytoreturn.copy())\n",
    "\n",
    "itinerary = [0,1,2,3,4,5,6,7,8,9,10,11,12,13,14,15,16,17,18,19,20,21,22,23,24,25,26,27,28,29, 30,31,32,33,34,35,36,37,38,39]\n",
    "\n",
    "np.random.seed(random_seed)\n",
    "itinerary_ps = itinerary.copy()\n",
    "for n in range(0,len(itinerary) * 50000):\n",
    "  itinerary_ps = perturb(cities,itinerary_ps)\n",
    "\n",
    "print(howfar(genlines(cities,itinerary_ps)))\n"
   ]
  },
  {
   "cell_type": "markdown",
   "metadata": {},
   "source": [
    "This is better than Bruteforce since it only swaps two spots and looks to see if it reduces the overall distance"
   ]
  },
  {
   "cell_type": "markdown",
   "metadata": {},
   "source": [
    "Both Nearest Neighbor and Perturb algorithms are greedy algorithms since they are looking at optimizing each step. However, it is a problem since it does not address the whole route. "
   ]
  },
  {
   "cell_type": "markdown",
   "metadata": {},
   "source": [
    "There is an analogy of a complex terrain. The idea is to find the highest point. The time is calculated by feeling the temperature. When it is warmer, it is easier to go down a little bit. As it gets colder, the climber needs to be approaching the top."
   ]
  },
  {
   "cell_type": "code",
   "execution_count": 19,
   "metadata": {},
   "outputs": [
    {
     "data": {
      "image/png": "[encoded data removed]",
      "text/plain": [
       "<Figure size 432x288 with 1 Axes>"
      ]
     },
     "metadata": {
      "needs_background": "light"
     },
     "output_type": "display_data"
    }
   ],
   "source": [
    "# Temperature Function\n",
    "temperature = lambda t: 1/(t + 1)\n",
    "\n",
    "import matplotlib.pyplot as plt\n",
    "ts = list(range(0,100))\n",
    "plt.plot(ts, [temperature(t) for t in ts])\n",
    "plt.title('The Temperature Function')\n",
    "plt.xlabel('Time')\n",
    "plt.ylabel('Temperature')\n",
    "plt.show()"
   ]
  },
  {
   "cell_type": "markdown",
   "metadata": {},
   "source": [
    "Simulated annealing is a modified form of perturb. This process combines the greedy algorithm and the terrain example. At first, we can adjust the itinerary to expand the total length. As time progresses, the algorithm starts to become greedy."
   ]
  },
  {
   "cell_type": "code",
   "execution_count": 20,
   "metadata": {},
   "outputs": [],
   "source": [
    "def perturb_sa1(cities,itinerary,time):\n",
    "  neighborids1 = math.floor(np.random.rand() * (len(itinerary)))\n",
    "  neighborids2 = math.floor(np.random.rand() * (len(itinerary)))\n",
    "\n",
    "  itinerary2 = itinerary.copy()\n",
    "\n",
    "  itinerary2[neighborids1] = itinerary[neighborids2]  \n",
    "  itinerary2[neighborids2] = itinerary[neighborids1]\n",
    "\n",
    "  distance1 = howfar(genlines(cities,itinerary))\n",
    "  distance2 = howfar(genlines(cities,itinerary2))\n",
    "\n",
    "  itinerarytoreturn = itinerary.copy()\n",
    "\n",
    "  randomdraw = np.random.rand()\n",
    "  temperature = 1/((time/1000) + 1)\n",
    "\n",
    "  if((distance2 > distance1 and (randomdraw) < (temperature)) or (distance1 > distance2)):\n",
    "    itinerarytoreturn=itinerary2.copy()\n",
    "\n",
    "  return(itinerarytoreturn.copy())"
   ]
  },
  {
   "cell_type": "code",
   "execution_count": 23,
   "metadata": {},
   "outputs": [
    {
     "name": "stdout",
     "output_type": "stream",
     "text": [
      "16.808756356994223\n",
      "16.808756356994223\n",
      "5.924388797206357\n",
      "0.46593711461098514\n"
     ]
    }
   ],
   "source": [
    "itinerary = [0,1,2,3,4,5,6,7,8,9,10,11,12,13,14,15,16,17,18,19,20,21,22,23,24,25,26,27,28,29, 30,31,32,33,34,35,36,37,38,39]\n",
    "np.random.seed(random_seed)\n",
    "\n",
    "itinerary_sa = itinerary.copy()\n",
    "for n in range(0,len(itinerary) * 50000):\n",
    "  itinerary_sa = perturb_sa1(cities,itinerary_sa,n)\n",
    "\n",
    "print(howfar(genlines(cities,itinerary))) #random itinerary\n",
    "print(howfar(genlines(cities,itinerary_ps))) #perturb search\n",
    "print(howfar(genlines(cities,itinerary_sa))) #simulated annealing\n",
    "print(howfar(genlines(cities,donn(cities,N)))) #nearest neighbor"
   ]
  },
  {
   "cell_type": "markdown",
   "metadata": {},
   "source": [
    "By adding the temperature, we are able to add more speed to the algorithm."
   ]
  },
  {
   "cell_type": "code",
   "execution_count": 24,
   "metadata": {},
   "outputs": [
    {
     "name": "stdout",
     "output_type": "stream",
     "text": [
      "[0, 1, 2, 3, 4, 5, 6, 7, 8, 9, 19, 18, 17, 16, 15, 14, 13, 12, 11, 10, 20, 21, 22, 23, 24, 25, 26, 27, 28, 29, 30, 31, 32, 33, 34, 35, 36, 37, 38, 39]\n"
     ]
    }
   ],
   "source": [
    "# Turning algorithm\n",
    "small = 10\n",
    "big = 20\n",
    "itinerary = [0,1,2,3,4,5,6,7,8,9,10,11,12,13,14,15,16,17,18,19,20,21,22,23,24,25,26,27,28,29, \\\n",
    "30,31,32,33,34,35,36,37,38,39]\n",
    "itinerary[small:big] = itinerary[small:big][::-1]\n",
    "print(itinerary)\n",
    "\n",
    "\n",
    "# itinerary = [0,1,2,3,4,5,6,7,8,9] turns into itinerary = [0,5,6,7,8,1,2,3,4,9]\n",
    "\n",
    "itinerary = [0,1,2,3,4,5,6,7,8,9]\n",
    "\n",
    "itinerary = [0,5,6,7,8,1,2,3,4,9]\n",
    "\n",
    "small = 1\n",
    "big = 5\n",
    "itinerary = [0,1,2,3,4,5,6,7,8,9]\n",
    "tempitin = itinerary[small:big]\n",
    "del(itinerary[small:big])\n",
    "np.random.seed(random_seed + 1)\n",
    "neighborids3 = math.floor(np.random.rand() * (len(itinerary)))\n",
    "for j in range(0,len(tempitin)):\n",
    "  itinerary.insert(neighborids3 + j,tempitin[j])\n"
   ]
  },
  {
   "cell_type": "markdown",
   "metadata": {},
   "source": [
    "We can create a new perturb function that alternated between different methods."
   ]
  },
  {
   "cell_type": "code",
   "execution_count": null,
   "metadata": {},
   "outputs": [],
   "source": [
    "def perturb_sa2(cities,itinerary,time):\n",
    "  neighborids1 = math.floor(np.random.rand() * (len(itinerary)))\n",
    "  neighborids2 = math.floor(np.random.rand() * (len(itinerary)))\n",
    "\n",
    "  itinerary2 = itinerary.copy()\n",
    "\n",
    "  randomdraw2 = np.random.rand()\n",
    "  small = min(neighborids1,neighborids2)\n",
    "  big = max(neighborids1,neighborids2)\n",
    "  if(randomdraw2 >= 0.55):\n",
    "    itinerary2[small:big] = itinerary2[small:big][:: - 1]\n",
    "  elif(randomdraw2 < 0.45):\n",
    "    tempitin = itinerary[small:big]\n",
    "    del(itinerary2[small:big])\n",
    "    neighborids3 = math.floor(np.random.rand() * (len(itinerary)))\n",
    "    for j in range(0,len(tempitin)):\n",
    "        itinerary2.insert(neighborids3 + j,tempitin[j])\n",
    "  else:\n",
    "    itinerary2[neighborids1] = itinerary[neighborids2]\n",
    "    itinerary2[neighborids2] = itinerary[neighborids1]\n",
    "\n",
    "  distance1 = howfar(genlines(cities,itinerary))\n",
    "  distance2 = howfar(genlines(cities,itinerary2))\n",
    "\n",
    "  itinerarytoreturn = itinerary.copy()\n",
    "\n",
    "  randomdraw = np.random.rand()\n",
    "  temperature = 1/((time/1000) + 1)\n",
    "\n",
    "  if((distance2 > distance1 and (randomdraw) < (temperature)) or (distance1 > distance2)):\n",
    "    itinerarytoreturn = itinerary2.copy()\n",
    "\n",
    "  return(itinerarytoreturn.copy())\n",
    "\n"
   ]
  },
  {
   "cell_type": "code",
   "execution_count": 25,
   "metadata": {},
   "outputs": [],
   "source": [
    "def perturb_sa3(cities,itinerary,time,maxitin):\n",
    "  neighborids1 = math.floor(np.random.rand() * (len(itinerary)))\n",
    "  neighborids2 = math.floor(np.random.rand() * (len(itinerary)))\n",
    "  global mindistance\n",
    "  global minitinerary\n",
    "  global minidx\n",
    "  itinerary2 = itinerary.copy()\n",
    "  randomdraw = np.random.rand()\n",
    "\n",
    "  randomdraw2 = np.random.rand()\n",
    "  small = min(neighborids1,neighborids2)\n",
    "  big = max(neighborids1,neighborids2)\n",
    "  if(randomdraw2>=0.55):\n",
    "    itinerary2[small:big] = itinerary2[small:big][::- 1 ]\n",
    "  elif(randomdraw2 < 0.45):\n",
    "    tempitin = itinerary[small:big]\n",
    "    del(itinerary2[small:big])\n",
    "    neighborids3 = math.floor(np.random.rand() * (len(itinerary)))\n",
    "    for j in range(0,len(tempitin)):\n",
    "      itinerary2.insert(neighborids3 + j,tempitin[j])\n",
    "  else:\n",
    "    itinerary2[neighborids1] = itinerary[neighborids2]\n",
    "    itinerary2[neighborids2] = itinerary[neighborids1]\n",
    "\n",
    "  temperature=1/(time/(maxitin/10)+1)\n",
    " \n",
    "  distance1 = howfar(genlines(cities,itinerary))\n",
    "  distance2 = howfar(genlines(cities,itinerary2))\n",
    "\n",
    "  itinerarytoreturn = itinerary.copy()\n",
    "\n",
    "  scale = 3.5\n",
    "  if((distance2 > distance1 and (randomdraw) < (math.exp(scale*(distance1 - distance2)) * temperature)) or (distance1 > distance2)):\n",
    "    itinerarytoreturn = itinerary2.copy()\n",
    "\n",
    "  reset = True\n",
    "  resetthresh = 0.04\n",
    "  if(reset and (time - minidx) > (maxitin * resetthresh)):\n",
    "    itinerarytoreturn = minitinerary\n",
    "    minidx = time\n",
    "\n",
    "  if(howfar(genlines(cities,itinerarytoreturn)) < mindistance):\n",
    "    mindistance = howfar(genlines(cities,itinerary2))\n",
    "    minitinerary = itinerarytoreturn\n",
    "    minidx = time\n",
    "\n",
    "  if(abs(time - maxitin) <= 1):\n",
    "    itinerarytoreturn = minitinerary.copy()\n",
    "\n",
    "  return(itinerarytoreturn.copy())"
   ]
  },
  {
   "cell_type": "code",
   "execution_count": null,
   "metadata": {},
   "outputs": [],
   "source": [
    "def siman(itinerary,cities):\n",
    "  newitinerary = itinerary.copy()\n",
    "  global mindistance\n",
    "  global minitinerary\n",
    "  global minidx\n",
    "  mindistance = howfar(genlines(cities,itinerary))\n",
    "  minitinerary = itinerary\n",
    "  minidx = 0\n",
    "\n",
    "  maxitin = len(itinerary) * 50000\n",
    "  for t in range(0,maxitin):\n",
    "    newitinerary = perturb_sa3(cities,newitinerary,t,maxitin)\n",
    "\n",
    "  return(newitinerary.copy())\n",
    "\n",
    "# --\n",
    "\n",
    "np.random.seed(random_seed)\n",
    "itinerary = list(range(N))\n",
    "nnitin = donn(cities,N)\n",
    "nnresult = howfar(genlines(cities,nnitin))\n",
    "simanitinerary = siman(itinerary,cities)\n",
    "simanresult = howfar(genlines(cities,simanitinerary))\n",
    "print(nnresult)\n",
    "print(simanresult)\n",
    "print(simanresult/nnresult)\n"
   ]
  },
  {
   "cell_type": "markdown",
   "metadata": {},
   "source": [
    "Chapter 7 Notes: This chapter focuses on Geometry"
   ]
  },
  {
   "cell_type": "markdown",
   "metadata": {},
   "source": [
    "Post master problem is to determine the optimal region of postoffices that a house can be a part of. \n",
    "\n",
    "The following starts with basic geometry around triangles."
   ]
  },
  {
   "cell_type": "code",
   "execution_count": 28,
   "metadata": {},
   "outputs": [],
   "source": [
    "point = [0.2,0.8]\n",
    "\n",
    "triangle = [[0.2,0.8],[0.5,0.2],[0.8,0.7]]\n",
    "\n",
    "def points_to_triangle(point1,point2,point3):\n",
    "  triangle = [list(point1),list(point2),list(point3)]\n",
    "  return(triangle)\n",
    "\n",
    "\n",
    "def genlines(listpoints,itinerary):\n",
    "  lines = []\n",
    "  for j in range(len(itinerary)-1):\n",
    "    lines.append([listpoints[itinerary[j]],listpoints[itinerary[j+1]]])\n",
    "  return(lines)\n",
    "\n",
    "import pylab as pl\n",
    "from matplotlib import collections as mc\n",
    "def plot_triangle_simple(triangle,thename):\n",
    "  fig, ax = pl.subplots()\n",
    "\n",
    "  xs = [triangle[0][0],triangle[1][0],triangle[2][0]]\n",
    "  ys = [triangle[0][1],triangle[1][1],triangle[2][1]]\n",
    "\n",
    "  itin=[0,1,2,0]\n",
    "\n",
    "  thelines = genlines(triangle,itin)\n",
    "\n",
    "  lc = mc.LineCollection(genlines(triangle,itin), linewidths=2)\n",
    "\n",
    "  ax.add_collection(lc)\n",
    "\n",
    "  ax.margins(0.1)\n",
    "  pl.scatter(xs, ys)\n",
    "  pl.savefig(str(thename) + '.png')\n",
    "  pl.close()\n",
    "\n",
    "plot_triangle_simple(points_to_triangle((0.2,0.8),(0.5,0.2),(0.8,0.7)),'tri')"
   ]
  },
  {
   "cell_type": "code",
   "execution_count": null,
   "metadata": {},
   "outputs": [],
   "source": [
    "def get_distance(point1,point2):\n",
    "  distance = math.sqrt((point1[0] - point2[0])**2 + (point1[1] - point2[1])**2)\n",
    "  return(distance)"
   ]
  },
  {
   "cell_type": "markdown",
   "metadata": {},
   "source": [
    "Common Geometric Terms\n",
    "Bisect: To divide a line into two equal segments. Bisecting finds a line at the midpoint\n",
    "Equilateral: All sides are equal\n",
    "Perpendicular: Two lines that form a 90 degree angle\n",
    "Vertex: The point at which two edges of a shape meet\n",
    "\n",
    "Circumcenter\n",
    "\n",
    "There are three lines that connect from a vertex to the midpoint of the opposite side. The centroid is where all three line segments intersect.\n",
    "\n",
    "The centroid is the center of a unique circle that intersects with the three vertices of a triangle.\n",
    "However, this poses a problem that there can be infinitely many centers."
   ]
  },
  {
   "cell_type": "code",
   "execution_count": 31,
   "metadata": {},
   "outputs": [],
   "source": [
    "def triangle_to_circumcenter(triangle):\n",
    "  x,y,z = complex(triangle[0][0],triangle[0][1]), complex(triangle[1][0],triangle[1][1]), \\\n",
    "  complex(triangle[2][0],triangle[2][1])\n",
    "  w = z - x\n",
    "  w /= y - x\n",
    "  c = (x-y) * (w-abs(w)**2)/2j/w.imag - x\n",
    "  radius = abs(c + x)\n",
    "  return((0 - c.real,0 - c.imag),radius)\n",
    "\n",
    "\n",
    "def plot_triangle(triangles,centers,radii,thename):\n",
    "  fig, ax = pl.subplots()\n",
    "  ax.set_xlim([0,1])\n",
    "  ax.set_ylim([0,1])\n",
    "  for i in range(0,len(triangles)):\n",
    "    triangle = triangles[i]\n",
    "    center = centers[i]\n",
    "    radius = radii[i]\n",
    "    itin = [0,1,2,0]\n",
    "    thelines = genlines(triangle,itin)\n",
    "    xs = [triangle[0][0],triangle[1][0],triangle[2][0]]\n",
    "    ys = [triangle[0][1],triangle[1][1],triangle[2][1]]\n",
    "\n",
    "    lc = mc.LineCollection(genlines(triangle,itin), linewidths = 2)\n",
    "\n",
    "    ax.add_collection(lc)\n",
    "    ax.margins(0.1)\n",
    "    pl.scatter(xs, ys)\n",
    "    pl.scatter(center[0],center[1])\n",
    "\n",
    "    circle = pl.Circle(center, radius, color = 'b', fill = False)\n",
    "\n",
    "    ax.add_artist(circle)\n",
    "  pl.savefig(str(thename) + '.png')\n",
    "  pl.close()\n",
    "\n",
    "triangle1 = points_to_triangle((0.1,0.1),(0.3,0.6),(0.5,0.2))\n",
    "center1,radius1 = triangle_to_circumcenter(triangle1)\n",
    "triangle2 = points_to_triangle((0.8,0.1),(0.7,0.5),(0.8,0.9))\n",
    "center2,radius2 = triangle_to_circumcenter(triangle2)\n",
    "plot_triangle([triangle1,triangle2],[center1,center2],[radius1,radius2],'two')"
   ]
  },
  {
   "cell_type": "markdown",
   "metadata": {},
   "source": [
    "Triangulation:\n",
    "Turning a set of points into a set of triangles\n",
    "\n",
    "Fastest way to triangulate irregular patterns is by algorithms...\n",
    "\n",
    "Bowyer-Watson algorithm focuses on taking a set of points as its input and output a Delaunay triangulation which tends to output triangles that are close to equilateral.\n",
    "\n",
    "In the book, they add another point into a triangulated shape. When adding a point to the DT, no point can be within a circumcircle of any of the triangles."
   ]
  },
  {
   "cell_type": "code",
   "execution_count": null,
   "metadata": {},
   "outputs": [],
   "source": [
    "delaunay = [points_to_triangle((0.2,0.8),(0.5,0.2),(0.8,0.7))]\n",
    "\n",
    "point_to_add = [0.5,0.5]\n",
    "\n",
    "import math\n",
    "invalid_triangles = []\n",
    "delaunay_index = 0\n",
    "while delaunay_index < len(delaunay):\n",
    "  circumcenter,radius = triangle_to_circumcenter(delaunay[delaunay_index])\n",
    "  new_distance = get_distance(circumcenter,point_to_add)\n",
    "  if(new_distance < radius):\n",
    "    invalid_triangles.append(delaunay[delaunay_index])\n",
    "  delaunay_index += 1\n",
    "\n",
    "points_in_invalid = []\n",
    "\n",
    "for i in range(len(invalid_triangles)):\n",
    "  delaunay.remove(invalid_triangles[i])\n",
    "  for j in range(0,len(invalid_triangles[i])):\n",
    "    points_in_invalid.append(invalid_triangles[i][j])\n",
    "\n",
    "points_in_invalid = [list(x) for x in set(tuple(x) for x in points_in_invalid)]\n",
    "\n"
   ]
  },
  {
   "cell_type": "code",
   "execution_count": null,
   "metadata": {},
   "outputs": [],
   "source": [
    "for i in range(len(points_in_invalid)):\n",
    "  for j in range(i + 1,len(points_in_invalid)):\n",
    "    #count the number of times both of these are in the bad triangles\n",
    "    count_occurrences = 0\n",
    "    for k in range(len(invalid_triangles)):\n",
    "      count_occurrences += 1 * (points_in_invalid[i] in invalid_triangles[k]) * (points_in_invalid[j] in invalid_triangles[k])\n",
    "    if(count_occurrences == 1):\n",
    "      delaunay.append(points_to_triangle(points_in_invalid[i], points_in_invalid[j], point_to_add))\n"
   ]
  },
  {
   "cell_type": "code",
   "execution_count": null,
   "metadata": {},
   "outputs": [],
   "source": [
    "def gen_delaunay(points):\n",
    "  delaunay = [points_to_triangle([-5,-5],[-5,10],[10,-5])]\n",
    "  number_of_points = 0\n",
    "\n",
    "  while number_of_points < len(points): # 1\n",
    "    point_to_add = points[number_of_points]\n",
    "\n",
    "    delaunay_index = 0\n",
    "\n",
    "    invalid_triangles = [] # 2\n",
    "    while delaunay_index < len(delaunay):\n",
    "      circumcenter,radius = triangle_to_circumcenter(delaunay[delaunay_index])\n",
    "      new_distance = get_distance(circumcenter,point_to_add)\n",
    "      if(new_distance < radius):\n",
    "        invalid_triangles.append(delaunay[delaunay_index])\n",
    "      delaunay_index += 1\n",
    "\n",
    "    points_in_invalid = [] # 3\n",
    "    for i in range(0,len(invalid_triangles)):\n",
    "      delaunay.remove(invalid_triangles[i])\n",
    "      for j in range(0,len(invalid_triangles[i])):\n",
    "        points_in_invalid.append(invalid_triangles[i][j])\n",
    "      points_in_invalid = [list(x) for x in set(tuple(x) for x in points_in_invalid)]\n",
    "\n",
    "    for i in range(0,len(points_in_invalid)): # 4\n",
    "      for j in range(i + 1,len(points_in_invalid)):\n",
    "        #count the number of times both of these are in the bad triangles\n",
    "        count_occurrences = 0\n",
    "        for k in range(0,len(invalid_triangles)):\n",
    "          count_occurrences += 1 * (points_in_invalid[i] in invalid_triangles[k]) * (points_in_invalid[j] in invalid_triangles[k])\n",
    "        if(count_occurrences == 1):\n",
    "          delaunay.append(points_to_triangle(points_in_invalid[i], points_in_invalid[j], point_to_add))\n",
    "\n",
    "    number_of_points += 1\n",
    "\n",
    "  return(delaunay)"
   ]
  },
  {
   "cell_type": "code",
   "execution_count": null,
   "metadata": {},
   "outputs": [],
   "source": [
    "\n",
    "N=15\n",
    "import numpy as np\n",
    "np.random.seed(5201314)\n",
    "xs = np.random.rand(N)\n",
    "ys = np.random.rand(N)\n",
    "points = zip(xs,ys)\n",
    "listpoints = list(points)\n",
    "the_delaunay = gen_delaunay(listpoints)"
   ]
  },
  {
   "cell_type": "markdown",
   "metadata": {},
   "source": [
    "Voronoi Diagram is where we find the DT of a set of points and take the circumcenter of every triangles and draw lines connecting circumcenters that are part of triangles in the DT that share an edge."
   ]
  },
  {
   "cell_type": "code",
   "execution_count": null,
   "metadata": {},
   "outputs": [],
   "source": [
    "\n",
    "\n",
    "def plot_triangle_circum(triangles,centers,plotcircles,plotpoints, plottriangles,plotvoronoi,plotvpoints,thename):\n",
    "  fig, ax = pl.subplots()\n",
    "  ax.set_xlim([-0.1,1.1])\n",
    "  ax.set_ylim([-0.1,1.1])\n",
    "\n",
    "  lines=[]\n",
    "  for i in range(0,len(triangles)):\n",
    "    triangle = triangles[i]\n",
    "    center = centers[i][0]\n",
    "    radius = centers[i][1]\n",
    "    itin = [0,1,2,0]\n",
    "    thelines = genlines(triangle,itin)\n",
    "    xs = [triangle[0][0],triangle[1][0],triangle[2][0]]\n",
    "    ys = [triangle[0][1],triangle[1][1],triangle[2][1]]\n",
    "\n",
    "    lc = mc.LineCollection(genlines(triangle,itin), linewidths=2)\n",
    "    if(plottriangles):\n",
    "      ax.add_collection(lc)\n",
    "    if(plotpoints):\n",
    "      pl.scatter(xs, ys)\n",
    "\n",
    "    ax.margins(0.1)\n",
    "    if(plotvpoints):\n",
    "      pl.scatter(center[0],center[1])\n",
    "\n",
    "    circle = pl.Circle(center, radius, color = 'b', fill = False)\n",
    "    if(plotcircles):\n",
    "      ax.add_artist(circle)\n",
    "\n",
    "    if(plotvoronoi):\n",
    "      for j in range(0,len(triangles)):\n",
    "        commonpoints = 0\n",
    "        for k in range(0,len(triangles[i])):\n",
    "          for n in range(0,len(triangles[j])):\n",
    "            if triangles[i][k] == triangles[j][n]:\n",
    "              commonpoints += 1\n",
    "        if commonpoints == 2:\n",
    "          lines.append([list(centers[i][0]),list(centers[j][0])])\n",
    "\n",
    "    lc = mc.LineCollection(lines, linewidths = 1)\n",
    "\n",
    "    ax.add_collection(lc)\n",
    "\n",
    "  pl.savefig(str(thename) + '.png')\n",
    "  pl.close()"
   ]
  },
  {
   "cell_type": "code",
   "execution_count": null,
   "metadata": {},
   "outputs": [],
   "source": [
    "circumcenters = []\n",
    "for i in range(0,len(the_delaunay)):\n",
    "  circumcenters.append(triangle_to_circumcenter(the_delaunay[i]))\n",
    "\n",
    "plot_triangle_circum(the_delaunay,circumcenters,False,True,False,True,False,'final')\n",
    "\n",
    "\n",
    "plot_triangle_circum(the_delaunay,circumcenters,True,True,True,True,True,'everything')"
   ]
  }
 ],
 "metadata": {
  "kernelspec": {
   "display_name": "Python 3 (ipykernel)",
   "language": "python",
   "name": "python3"
  },
  "language_info": {
   "codemirror_mode": {
    "name": "ipython",
    "version": 3
   },
   "file_extension": ".py",
   "mimetype": "text/x-python",
   "name": "python",
   "nbconvert_exporter": "python",
   "pygments_lexer": "ipython3",
   "version": "3.9.13"
  },
  "vscode": {
   "interpreter": {
    "hash": "31f2aee4e71d21fbe5cf8b01ff0e069b9275f58929596ceb00d14d90e3e16cd6"
   }
  }
 },
 "nbformat": 4,
 "nbformat_minor": 2
}
