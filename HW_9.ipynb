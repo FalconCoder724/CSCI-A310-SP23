{
  "cells": [
    {
      "cell_type": "markdown",
      "metadata": {
        "id": "YkNT2V312OTC"
      },
      "source": [
        "Hash Function"
      ]
    },
    {
      "cell_type": "code",
      "execution_count": 1,
      "metadata": {
        "id": "toKJLFZ7dqTa"
      },
      "outputs": [],
      "source": [
        "def hash_function(key):\n",
        "    \"\"\"\n",
        "    A simple hash function that returns the sum of the ASCII values of the characters in the key.\n",
        "    \"\"\"\n",
        "    hash_value = 0\n",
        "    for char in key:\n",
        "        hash_value += ord(char)\n",
        "    return hash_value"
      ]
    },
    {
      "cell_type": "markdown",
      "metadata": {
        "id": "f8Hnd-aY2d5j"
      },
      "source": [
        "Hash Function Testers"
      ]
    },
    {
      "cell_type": "code",
      "execution_count": 3,
      "metadata": {
        "id": "Ur_KMlWK2flD"
      },
      "outputs": [],
      "source": [
        "assert hash_function('hello') == 532\n",
        "assert hash_function('world') == 552\n"
      ]
    },
    {
      "cell_type": "markdown",
      "metadata": {
        "id": "6Kvqvw452iyz"
      },
      "source": [
        "Bloom Filters"
      ]
    },
    {
      "cell_type": "code",
      "execution_count": 5,
      "metadata": {
        "id": "HDBhYI9C2icw"
      },
      "outputs": [],
      "source": [
        "import hashlib\n",
        "import math\n",
        "\n",
        "class BloomFilter:\n",
        "    def __init__(self, num_bits, num_hashes):\n",
        "        self.num_bits = num_bits\n",
        "        self.num_hashes = num_hashes\n",
        "        self.bit_array = [0] * num_bits\n",
        "        \n",
        "    def add(self, element):\n",
        "        for i in range(self.num_hashes):\n",
        "            hash_value = int(hashlib.sha256(str(element).encode('utf-8') + str(i).encode('utf-8')).hexdigest(), 16)\n",
        "            index = hash_value % self.num_bits\n",
        "            self.bit_array[index] = 1\n",
        "            \n",
        "    def contains(self, element):\n",
        "        for i in range(self.num_hashes):\n",
        "            hash_value = int(hashlib.sha256(str(element).encode('utf-8') + str(i).encode('utf-8')).hexdigest(), 16)\n",
        "            index = hash_value % self.num_bits\n",
        "            if self.bit_array[index] == 0:\n",
        "                return False\n",
        "        return True"
      ]
    },
    {
      "cell_type": "code",
      "execution_count": 6,
      "metadata": {
        "colab": {
          "base_uri": "https://localhost:8080/"
        },
        "id": "i4pw9B_9MpMO",
        "outputId": "25719f02-3f79-4533-9468-6e41fe3a338c"
      },
      "outputs": [
        {
          "name": "stdout",
          "output_type": "stream",
          "text": [
            "True\n",
            "False\n"
          ]
        }
      ],
      "source": [
        "bf = BloomFilter(num_bits=1000, num_hashes=5)\n",
        "bf.add('apple')\n",
        "bf.add('banana')\n",
        "bf.add('orange')\n",
        "\n",
        "print(bf.contains('apple'))   # True\n",
        "print(bf.contains('grape'))   # False (with high probability)\n"
      ]
    },
    {
      "cell_type": "code",
      "execution_count": null,
      "metadata": {
        "id": "1sD8L5f3L_kt"
      },
      "outputs": [],
      "source": []
    }
  ],
  "metadata": {
    "colab": {
      "provenance": []
    },
    "kernelspec": {
      "display_name": "Python 3",
      "language": "python",
      "name": "python3"
    },
    "language_info": {
      "name": "python",
      "version": "3.11.1 (v3.11.1:a7a450f84a, Dec  6 2022, 15:24:06) [Clang 13.0.0 (clang-1300.0.29.30)]"
    },
    "vscode": {
      "interpreter": {
        "hash": "aee8b7b246df8f9039afb4144a1f6fd8d2ca17a180786b69acc140d282b71a49"
      }
    }
  },
  "nbformat": 4,
  "nbformat_minor": 0
}
