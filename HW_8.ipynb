{
  "nbformat": 4,
  "nbformat_minor": 0,
  "metadata": {
    "colab": {
      "provenance": []
    },
    "kernelspec": {
      "name": "python3",
      "display_name": "Python 3"
    },
    "language_info": {
      "name": "python"
    }
  },
  "cells": [
    {
      "cell_type": "markdown",
      "source": [
        "A simple linear regression model using sklearn and linear regression library"
      ],
      "metadata": {
        "id": "yqtEX9SGenKt"
      }
    },
    {
      "cell_type": "code",
      "execution_count": 3,
      "metadata": {
        "colab": {
          "base_uri": "https://localhost:8080/"
        },
        "id": "L-Xd5yRnekoO",
        "outputId": "5d9fb179-c46d-4542-bdd2-943921997e8a"
      },
      "outputs": [
        {
          "output_type": "stream",
          "name": "stdout",
          "text": [
            "[158. 159.]\n"
          ]
        }
      ],
      "source": [
        "from sklearn.linear_model import LinearRegression\n",
        "import numpy as np\n",
        "## Data (Apple stock prices)\n",
        "apple = np.array([155, 156, 157])\n",
        "n = len(apple)\n",
        "\n",
        "## One-liner\n",
        "model = LinearRegression().fit(np.arange(n).reshape((n,1)), apple)\n",
        "## Result & puzzle\n",
        "print(model.predict([[3],[4]]))"
      ]
    },
    {
      "cell_type": "markdown",
      "source": [
        "Classification"
      ],
      "metadata": {
        "id": "Tpe9OI5viFSB"
      }
    },
    {
      "cell_type": "code",
      "source": [
        "from sklearn.linear_model import LogisticRegression\n",
        "import numpy as np\n",
        "## Data (#cigarettes, cancer)\n",
        "X = np.array([[0, \"No\"],\n",
        "              [10, \"No\"],\n",
        "              [60, \"Yes\"],\n",
        "              [90, \"Yes\"]])\n",
        "n = len(X)\n",
        "## One-liner\n",
        "model = LogisticRegression().fit(X[:,0].reshape(n,1), X[:,1])\n",
        "#print(X[:,0].reshape(n,1))\n",
        "## Result & puzzle\n",
        "print(model.predict([[2],[12],[13],[40],[90]]))\n",
        "#note results for both sections of code are different from the book and i don't know why."
      ],
      "metadata": {
        "colab": {
          "base_uri": "https://localhost:8080/"
        },
        "id": "KHwnZSWXiHPy",
        "outputId": "1912012e-d401-4327-d64c-35a1d450eeea"
      },
      "execution_count": 17,
      "outputs": [
        {
          "output_type": "stream",
          "name": "stdout",
          "text": [
            "['No' 'No' 'No' 'Yes' 'Yes']\n"
          ]
        }
      ]
    },
    {
      "cell_type": "code",
      "source": [
        "for i in range(20):\n",
        "    print(\"x=\" + str(i) + \" --> \" + str(model.predict_proba([[i]])))\n",
        "    #note results for both sections of code are different from the book and i don't know why."
      ],
      "metadata": {
        "colab": {
          "base_uri": "https://localhost:8080/"
        },
        "id": "DhT-gLBXj8en",
        "outputId": "5396e07d-1ffd-4cb0-fca4-e241ea4f819a"
      },
      "execution_count": 12,
      "outputs": [
        {
          "output_type": "stream",
          "name": "stdout",
          "text": [
            "x=0 --> [[9.99568507e-01 4.31492826e-04]]\n",
            "x=1 --> [[9.99462453e-01 5.37546844e-04]]\n",
            "x=2 --> [[9.99330350e-01 6.69649778e-04]]\n",
            "x=3 --> [[9.99165810e-01 8.34190106e-04]]\n",
            "x=4 --> [[0.99896088 0.00103912]]\n",
            "x=5 --> [[0.99870568 0.00129432]]\n",
            "x=6 --> [[0.9983879 0.0016121]]\n",
            "x=7 --> [[0.99799225 0.00200775]]\n",
            "x=8 --> [[0.99749974 0.00250026]]\n",
            "x=9 --> [[0.99688681 0.00311319]]\n",
            "x=10 --> [[0.99612419 0.00387581]]\n",
            "x=11 --> [[0.99517566 0.00482434]]\n",
            "x=12 --> [[0.9939964 0.0060036]]\n",
            "x=13 --> [[0.99253105 0.00746895]]\n",
            "x=14 --> [[0.99071137 0.00928863]]\n",
            "x=15 --> [[0.98845352 0.01154648]]\n",
            "x=16 --> [[0.98565479 0.01434521]]\n",
            "x=17 --> [[0.9821899 0.0178101]]\n",
            "x=18 --> [[0.97790687 0.02209313]]\n",
            "x=19 --> [[0.97262256 0.02737744]]\n"
          ]
        }
      ]
    },
    {
      "cell_type": "markdown",
      "source": [
        "K-Means clustering"
      ],
      "metadata": {
        "id": "N3wLRM5RmKsy"
      }
    },
    {
      "cell_type": "code",
      "source": [
        "## Dependencies\n",
        "from sklearn.cluster import KMeans\n",
        "import numpy as np\n",
        "## Data (Work (h) / Salary ($))\n",
        "X = np.array([[35, 7000], [45, 6900], [70, 7100],\n",
        "              [20, 2000], [25, 2200], [15, 1800]])\n",
        "## One-liner\n",
        "kmeans = KMeans(n_clusters=2).fit(X)\n",
        "## Result & puzzle\n",
        "cc = kmeans.cluster_centers_\n",
        "print(cc)"
      ],
      "metadata": {
        "colab": {
          "base_uri": "https://localhost:8080/"
        },
        "id": "pBED-T8-mMuS",
        "outputId": "33231c1f-85dd-48b0-ffa7-f756edb9a9bf"
      },
      "execution_count": 18,
      "outputs": [
        {
          "output_type": "stream",
          "name": "stdout",
          "text": [
            "[[  50. 7000.]\n",
            " [  20. 2000.]]\n"
          ]
        },
        {
          "output_type": "stream",
          "name": "stderr",
          "text": [
            "/usr/local/lib/python3.10/dist-packages/sklearn/cluster/_kmeans.py:870: FutureWarning: The default value of `n_init` will change from 10 to 'auto' in 1.4. Set the value of `n_init` explicitly to suppress the warning\n",
            "  warnings.warn(\n"
          ]
        }
      ]
    },
    {
      "cell_type": "markdown",
      "source": [
        "K-Nearest Neighbors"
      ],
      "metadata": {
        "id": "F9ZIH0WyotLB"
      }
    },
    {
      "cell_type": "code",
      "source": [
        "## Dependencies\n",
        "from sklearn.neighbors import KNeighborsRegressor\n",
        "import numpy as np\n",
        "## Data (House Size (square meters) / House Price ($))\n",
        "X = np.array([[35, 30000], [45, 45000], [40, 50000],\n",
        "              [35, 35000], [25, 32500], [40, 40000]])\n",
        "## One-liner\n",
        "KNN = KNeighborsRegressor(n_neighbors=3).fit(X[:,0].reshape(-1,1), X[:,1])\n",
        "\n",
        "## Result & puzzle\n",
        "res = KNN.predict([[30]])\n",
        "print(res)"
      ],
      "metadata": {
        "colab": {
          "base_uri": "https://localhost:8080/"
        },
        "id": "HiAOTGccowXT",
        "outputId": "64210d14-1a17-430c-f719-f261a0775202"
      },
      "execution_count": 19,
      "outputs": [
        {
          "output_type": "stream",
          "name": "stdout",
          "text": [
            "[32500.]\n"
          ]
        }
      ]
    },
    {
      "cell_type": "markdown",
      "source": [
        "Neural Network Analysis"
      ],
      "metadata": {
        "id": "6tjW_iQevlFH"
      }
    },
    {
      "cell_type": "code",
      "source": [
        "## Dependencies\n",
        "from sklearn.neural_network import MLPRegressor\n",
        "import numpy as np\n",
        "## Questionaire data (WEEK, YEARS, BOOKS, PROJECTS, EARN, RATING)\n",
        "X = np.array(\n",
        "    [[20, 11, 20, 30, 4000, 3000],\n",
        "     [12, 4, 0, 0, 1000, 1500],\n",
        "     [2, 0, 1, 10, 0, 1400],\n",
        "     [35, 5, 10, 70, 6000, 3800],\n",
        "     [30, 1, 4, 65, 0, 3900],\n",
        "     [35, 1, 0, 0, 0, 100],\n",
        "     [15, 1, 2, 25, 0, 3700],\n",
        "     [40, 3, -1, 60, 1000, 2000],\n",
        "     [40, 1, 2, 95, 0, 1000],\n",
        "     [10, 0, 0, 0, 0, 1400],\n",
        "     [30, 1, 0, 50, 0, 1700],\n",
        "     [1, 0, 0, 45, 0, 1762],\n",
        "     [10, 32, 10, 5, 0, 2400],\n",
        "     [5, 35, 4, 0, 13000, 3900],\n",
        "     [8, 9, 40, 30, 1000, 2625],\n",
        "     [1, 0, 1, 0, 0, 1900],\n",
        "     [1, 30, 10, 0, 1000, 1900],\n",
        "     [7 , 16, 5, 0, 0, 3000]])\n",
        "## One-liner\n",
        "neural_net = MLPRegressor(max_iter=10000).fit(X[:,:-1], X[:,-1])\n",
        "#print(X[:,:-1])\n",
        "## Result\n",
        "res = neural_net.predict([[0, 0, 0, 0, 0]])\n",
        "print(res)"
      ],
      "metadata": {
        "colab": {
          "base_uri": "https://localhost:8080/"
        },
        "id": "BGlsB0mXvnYc",
        "outputId": "4712a9ad-e2d1-4424-f9f0-a30171d9f149"
      },
      "execution_count": 26,
      "outputs": [
        {
          "output_type": "stream",
          "name": "stdout",
          "text": [
            "[1148.71313826]\n"
          ]
        }
      ]
    },
    {
      "cell_type": "code",
      "source": [
        "## Result\n",
        "res = neural_net.predict([[20, 0, 0, 0, 0]])\n",
        "print(res)\n",
        "# [440.40167562]"
      ],
      "metadata": {
        "colab": {
          "base_uri": "https://localhost:8080/"
        },
        "id": "N_3byyVf7Ewb",
        "outputId": "40508d0c-e751-47b3-e803-a6af87cb9457"
      },
      "execution_count": 27,
      "outputs": [
        {
          "output_type": "stream",
          "name": "stdout",
          "text": [
            "[770.76086907]\n"
          ]
        }
      ]
    },
    {
      "cell_type": "markdown",
      "source": [
        "Decision-Tree Learning"
      ],
      "metadata": {
        "id": "ghCNJn_H6kX8"
      }
    },
    {
      "cell_type": "code",
      "source": [
        "## Dependencies\n",
        "from sklearn import tree\n",
        "import numpy as np\n",
        "## Data: student scores in (math, language, creativity) --> study field\n",
        "X = np.array([[9, 5, 6, \"computer science\"],\n",
        "              [1, 8, 1, \"linguistics\"],\n",
        "              [5, 7, 9, \"art\"]])\n",
        "## One-liner\n",
        "Tree = tree.DecisionTreeClassifier().fit(X[:,:-1], X[:,-1])\n",
        "## Result & puzzle\n",
        "student_0 = Tree.predict([[8, 6, 5]])\n",
        "print(student_0)\n",
        "student_1 = Tree.predict([[3, 7, 9]])\n",
        "print(student_1)"
      ],
      "metadata": {
        "colab": {
          "base_uri": "https://localhost:8080/"
        },
        "id": "R_-hBPma8Kog",
        "outputId": "d0790970-9202-4fc5-8f71-81efdbbb95d0"
      },
      "execution_count": 28,
      "outputs": [
        {
          "output_type": "stream",
          "name": "stdout",
          "text": [
            "['computer science']\n",
            "['art']\n"
          ]
        }
      ]
    },
    {
      "cell_type": "markdown",
      "source": [
        "Get Row with Minimal Variance"
      ],
      "metadata": {
        "id": "K2gWb9pc8umI"
      }
    },
    {
      "cell_type": "code",
      "source": [
        "## Dependencies\n",
        "import numpy as np\n",
        "## Data (rows: stocks / cols: stock prices)\n",
        "X = np.array([[25,27,29,30],\n",
        "[1,5,3,2],\n",
        "[12,11,8,3],\n",
        "[1,1,2,2],\n",
        "[2,6,2,2]])\n",
        "## One-liner\n",
        "# Find the stock with smallest variance\n",
        "min_row = min([(i,np.var(X[i,:])) for i in range(len(X))], key=lambda x: x[1])\n",
        "## Result & puzzle\n",
        "print(\"Row with minimum variance: \" + str(min_row[0]))\n",
        "print(\"Variance: \" + str(min_row[1]))"
      ],
      "metadata": {
        "colab": {
          "base_uri": "https://localhost:8080/"
        },
        "id": "8_9tFbnG8uXP",
        "outputId": "0dc8ddea-50eb-4197-84b2-30cbe51b687b"
      },
      "execution_count": 30,
      "outputs": [
        {
          "output_type": "stream",
          "name": "stdout",
          "text": [
            "Row with minimum variance: 3\n",
            "Variance: 0.25\n"
          ]
        }
      ]
    },
    {
      "cell_type": "markdown",
      "source": [
        "Basic Statistics"
      ],
      "metadata": {
        "id": "my9wz7crBLkx"
      }
    },
    {
      "cell_type": "code",
      "source": [
        "import numpy as np\n",
        "X = np.array([[1, 3, 5],\n",
        "[1, 1, 1],\n",
        "[0, 2, 4]])\n",
        "print(np.average(X))\n",
        "# 2.0\n",
        "print(np.var(X))\n",
        "# 2.4444444444444446\n",
        "print(np.std(X))\n",
        "# 1.5634719199411433"
      ],
      "metadata": {
        "colab": {
          "base_uri": "https://localhost:8080/"
        },
        "id": "VezSe8jgBLYx",
        "outputId": "315c0d21-10ec-4548-c597-603294241e4c"
      },
      "execution_count": 31,
      "outputs": [
        {
          "output_type": "stream",
          "name": "stdout",
          "text": [
            "2.0\n",
            "2.4444444444444446\n",
            "1.5634719199411433\n"
          ]
        }
      ]
    },
    {
      "cell_type": "markdown",
      "source": [
        "Calculating Average, Variance, Standard Deviation Along an Axis"
      ],
      "metadata": {
        "id": "CrYMsMBhB0RQ"
      }
    },
    {
      "cell_type": "code",
      "source": [
        "## Dependencies\n",
        "import numpy as np\n",
        "## Stock Price Data: 5 companies\n",
        "# (row=[price_day_1, price_day_2, ...])\n",
        "x = np.array([[8, 9, 11, 12],\n",
        "[1, 2, 2, 1],\n",
        "[2, 8, 9, 9],\n",
        "[9, 6, 6, 3],\n",
        "[3, 3, 3, 3]])\n",
        "## One-liner\n",
        "avg, var, std = np.average(x, axis=1), np.var(x, axis=1), np.std(x, axis=1)\n",
        "## Result & puzzle\n",
        "print(\"Averages: \" + str(avg))\n",
        "print(\"Variances: \" + str(var))\n",
        "print(\"Standard Deviations: \" + str(std))"
      ],
      "metadata": {
        "colab": {
          "base_uri": "https://localhost:8080/"
        },
        "id": "urnYIu-0B4_g",
        "outputId": "0b754fc1-9ae1-4b43-91e9-327d377b9a24"
      },
      "execution_count": 32,
      "outputs": [
        {
          "output_type": "stream",
          "name": "stdout",
          "text": [
            "Averages: [10.   1.5  7.   6.   3. ]\n",
            "Variances: [2.5  0.25 8.5  4.5  0.  ]\n",
            "Standard Deviations: [1.58113883 0.5        2.91547595 2.12132034 0.        ]\n"
          ]
        }
      ]
    },
    {
      "cell_type": "code",
      "source": [
        "import numpy as np\n",
        "x = np.array([[[1,2], [1,1]],\n",
        "[[1,1], [2,1]],\n",
        "[[1,0], [0,0]]])\n",
        "print(np.average(x, axis=2))\n",
        "print(np.var(x, axis=2))\n",
        "print(np.std(x, axis=2))"
      ],
      "metadata": {
        "colab": {
          "base_uri": "https://localhost:8080/"
        },
        "id": "BBL4BV6aCHy_",
        "outputId": "465431f8-dc61-483d-de2d-62472e9e671a"
      },
      "execution_count": 33,
      "outputs": [
        {
          "output_type": "stream",
          "name": "stdout",
          "text": [
            "[[1.5 1. ]\n",
            " [1.  1.5]\n",
            " [0.5 0. ]]\n",
            "[[0.25 0.  ]\n",
            " [0.   0.25]\n",
            " [0.25 0.  ]]\n",
            "[[0.5 0. ]\n",
            " [0.  0.5]\n",
            " [0.5 0. ]]\n"
          ]
        }
      ]
    },
    {
      "cell_type": "markdown",
      "source": [
        "\n",
        "Classification with Support-Vector Machines\n"
      ],
      "metadata": {
        "id": "l_68eV2nCTdG"
      }
    },
    {
      "cell_type": "code",
      "source": [
        "## Dependencies\n",
        "from sklearn import svm\n",
        "import numpy as np\n",
        "## Data: student scores in (math, language, creativity) --> study field\n",
        "X = np.array([[9, 5, 6, \"computer science\"],\n",
        "[10, 1, 2, \"computer science\"],\n",
        "[1, 8, 1, \"literature\"],\n",
        "[4, 9, 3, \"literature\"],\n",
        "[0, 1, 10, \"art\"],\n",
        "[5, 7, 9, \"art\"]])\n",
        "\n",
        "## One-liner\n",
        "svm = svm.SVC().fit(X[:,:-1], X[:,-1])\n",
        "## Result & puzzle\n",
        "student_0 = svm.predict([[3, 3, 6]])\n",
        "print(student_0)\n",
        "student_1 = svm.predict([[8, 1, 1]])\n",
        "print(student_1)\n",
        "\n"
      ],
      "metadata": {
        "colab": {
          "base_uri": "https://localhost:8080/"
        },
        "id": "MXXzMVFYCbIH",
        "outputId": "832d6e6d-06b8-40b0-c906-ca039abb6ac0"
      },
      "execution_count": 35,
      "outputs": [
        {
          "output_type": "stream",
          "name": "stdout",
          "text": [
            "['art']\n",
            "['computer science']\n"
          ]
        }
      ]
    },
    {
      "cell_type": "markdown",
      "source": [
        "Classification with Random Forests"
      ],
      "metadata": {
        "id": "fhABcnl3CndH"
      }
    },
    {
      "cell_type": "code",
      "source": [
        "## Dependencies\n",
        "import numpy as np\n",
        "from sklearn.ensemble import RandomForestClassifier\n",
        "## Data: student scores in (math, language, creativity) --> study field\n",
        "X = np.array([[9, 5, 6, \"computer science\"],\n",
        "[5, 1, 5, \"computer science\"],\n",
        "[8, 8, 8, \"computer science\"],\n",
        "[1, 10, 7, \"literature\"],\n",
        "[1, 8, 1, \"literature\"],\n",
        "[5, 7, 9, \"art\"],\n",
        "[1, 1, 6, \"art\"]])\n",
        "## One-liner\n",
        "Forest = RandomForestClassifier(n_estimators=10).fit(X[:,:-1], X[:,-1])\n",
        "\n",
        "## Result\n",
        "students = Forest.predict([[8, 6, 5],\n",
        "[3, 7, 9],\n",
        "[2, 2, 1]])\n",
        "print(students)"
      ],
      "metadata": {
        "colab": {
          "base_uri": "https://localhost:8080/"
        },
        "id": "_We7NtguCqUP",
        "outputId": "e5809380-0730-4070-97d1-0de5b43f10e3"
      },
      "execution_count": 36,
      "outputs": [
        {
          "output_type": "stream",
          "name": "stdout",
          "text": [
            "['computer science' 'literature' 'literature']\n"
          ]
        }
      ]
    }
  ]
}