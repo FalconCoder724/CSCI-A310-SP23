{
 "cells": [
  {
   "cell_type": "code",
   "execution_count": 4,
   "metadata": {},
   "outputs": [
    {
     "name": "stdout",
     "output_type": "stream",
     "text": [
      "Shortest path from Blaxhall to Feering:  ['Harwich', 'Blaxhall', 'Feering']\n",
      "Shortest path from Blaxhall to Maldon:  ['Harwich', 'Tiptree', 'Maldon']\n",
      "Shortest path from Blaxhall to Clacton:  ['Harwich', 'Clacton']\n",
      "Shortest path from Blaxhall to Bloomington:  []\n"
     ]
    }
   ],
   "source": [
    "lab09 = {} # neighbors per node \n",
    "\n",
    "lab09[\"Dunwich\" ] = [\"Blaxhall\", \"Harwich\"]\n",
    "lab09[\"Blaxhall\"] = [\"Dunwich\", \"Harwich\", \"Feering\"]\n",
    "lab09[\"Harwich\" ] = [\"Dunwich\", \"Blaxhall\", \"Tiptree\", \"Clacton\"] # collin\n",
    "lab09[\"Feering\" ] = [\"Blaxhall\", \"Tiptree\", \"Maldon\"] # nick\n",
    "lab09[\"Tiptree\" ] = [\"Feering\", \"Harwich\", \"Maldon\", \"Clacton\"] # cole\n",
    "lab09[\"Clacton\" ] = [\"Harwich\", \"Tiptree\", \"Maldon\"]\n",
    "lab09[\"Maldon\"  ] = [\"Feering\", \"Tiptree\", \"Clacton\"]\n",
    "\n",
    "def fun(paths, end, graph):\n",
    "    if (paths == []):\n",
    "        return paths\n",
    "    else:\n",
    "        newPaths = []\n",
    "        for path in paths:\n",
    "            if path[-1] == end:\n",
    "                return path\n",
    "            neighbors = graph[path[-1]]\n",
    "            for neighbor in neighbors:\n",
    "                if neighbor not in path:\n",
    "                    newPaths = newPaths + [path + [neighbor]]\n",
    "        return fun(newPaths, end, graph)\n",
    "\n",
    "for target in [\"Feering\", \"Maldon\", \"Clacton\", \"Bloomington\"]:\n",
    "    answer = fun([[\"Harwich\"]], target, lab09)\n",
    "    print(\"Shortest path from Blaxhall to\", target + \": \", answer)\n",
    "\n",
    "\n",
    "# =================== RESTART: /Users/dgerman/Desktop/lab09.py  ====================\n",
    "# Shortest path from Blaxhall to Feering:  ['Blaxhall', 'Feering']\n",
    "# Shortest path from Blaxhall to Maldon:  ['Blaxhall', 'Feering', 'Maldon']\n",
    "# Shortest path from Blaxhall to Clacton:  ['Blaxhall', 'Harwich', 'Clacton']\n",
    "# Shortest path from Blaxhall to Bloomington:  []"
   ]
  },
  {
   "attachments": {},
   "cell_type": "markdown",
   "metadata": {},
   "source": [
    "(a) if you add arrows \n",
    "    Adjust the lab 09 neighbors dictionary to adjust for the arrows/\n",
    "(b) if you add weights \n",
    "    Add a weights dictionary where you show the specific weights for each pathway and then pair it with the neighbors dictionary.\n",
    "(c) if you do both\n",
    "    Pair the the adjusted neighbors dictionary and the weights dictionary and then add some code to optimize for weight."
   ]
  }
 ],
 "metadata": {
  "kernelspec": {
   "display_name": "Python 3",
   "language": "python",
   "name": "python3"
  },
  "language_info": {
   "codemirror_mode": {
    "name": "ipython",
    "version": 3
   },
   "file_extension": ".py",
   "mimetype": "text/x-python",
   "name": "python",
   "nbconvert_exporter": "python",
   "pygments_lexer": "ipython3",
   "version": "3.11.1"
  },
  "orig_nbformat": 4,
  "vscode": {
   "interpreter": {
    "hash": "aee8b7b246df8f9039afb4144a1f6fd8d2ca17a180786b69acc140d282b71a49"
   }
  }
 },
 "nbformat": 4,
 "nbformat_minor": 2
}
