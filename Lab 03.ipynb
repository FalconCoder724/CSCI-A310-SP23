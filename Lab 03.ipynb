{
 "cells": [
  {
   "attachments": {},
   "cell_type": "markdown",
   "id": "ae593bb4",
   "metadata": {},
   "source": [
    "**Problem 1**\n",
    ": Testing unknown truth values"
   ]
  },
  {
   "cell_type": "code",
   "execution_count": 11,
   "id": "3b177ead",
   "metadata": {},
   "outputs": [
    {
     "name": "stdout",
     "output_type": "stream",
     "text": [
      "True\n",
      "True\n",
      "True\n",
      "True\n"
     ]
    }
   ],
   "source": [
    "#0 - False\n",
    "#1 - True\n",
    "#Method 1\n",
    "def lhs(a,b):\n",
    "    return not(a and b)\n",
    "def rhs(a,b):\n",
    "    return ((not a) or (not b))\n",
    "\n",
    "#method 2\n",
    "def function(a,b):\n",
    "    return not (a and b) == ((not a) or (not b))\n",
    "\n",
    "'''\n",
    "print(lhs(0,1))\n",
    "print(rhs(False, True))\n",
    "#print(lhs(0,1)==rhs(0,1))\n",
    "#print(lhs(0,1)==rhs(1,0))\n",
    "#print(rhs(False,True))\n",
    "'''\n",
    "print(function(0,0))\n",
    "print(function(0,1))\n",
    "print(function(1,0))\n",
    "print(function(1,1))"
   ]
  },
  {
   "attachments": {},
   "cell_type": "markdown",
   "id": "8351fbcd",
   "metadata": {},
   "source": [
    "**Problem 2**\n",
    ": Simplifying not ((not a) or (not b)) for unknown truth values A and B"
   ]
  },
  {
   "attachments": {},
   "cell_type": "markdown",
   "id": "130e7b7d",
   "metadata": {},
   "source": [
    "not ((not a) or (not b)) == a and b\n",
    "not(not a) and not(not b)\n",
    "using DeMorgan's Law we get a and b"
   ]
  },
  {
   "attachments": {},
   "cell_type": "markdown",
   "id": "1a391a4f",
   "metadata": {},
   "source": [
    "**Problem 3**\n",
    ": GPA Problem"
   ]
  },
  {
   "cell_type": "code",
   "execution_count": 9,
   "id": "37c75da4",
   "metadata": {},
   "outputs": [
    {
     "name": "stdout",
     "output_type": "stream",
     "text": [
      "enter a number\n",
      "A\n"
     ]
    }
   ],
   "source": [
    "\n",
    "print(\"enter a number\")\n",
    "#grade=0.0\n",
    "try:\n",
    "    grade = float(input())\n",
    "    if grade>4.0:\n",
    "        print(\"Invalid Entry Please try again with a number between 0 and 4.0\")\n",
    "    elif grade>3.67:\n",
    "        print(\"A\")\n",
    "    elif grade>3.33:\n",
    "        print(\"A-\")\n",
    "    elif grade>3.00:\n",
    "        print(\"B+\")\n",
    "    elif grade>2.67:\n",
    "        print(\"B\")\n",
    "    elif grade>2.33:\n",
    "        print(\"B-\")\n",
    "    elif grade>2.0:\n",
    "        print(\"C+\")\n",
    "    elif grade>1.0:\n",
    "        print(\"C\")\n",
    "    elif grade==0.00:\n",
    "        print(\"D\")\n",
    "    else:\n",
    "        print(\"Too small\")\n",
    "except NameError:\n",
    "    print(\"invalid\")\n",
    "except ValueError:\n",
    "    print(\"value issue\")\n",
    "\n",
    "\n"
   ]
  },
  {
   "attachments": {},
   "cell_type": "markdown",
   "id": "6b38ab6c",
   "metadata": {},
   "source": [
    "**Problem 4**\n",
    ": Leap Year Problem"
   ]
  },
  {
   "cell_type": "code",
   "execution_count": 1,
   "id": "f68bcdba",
   "metadata": {},
   "outputs": [
    {
     "name": "stdout",
     "output_type": "stream",
     "text": [
      "2012 is a Leap Year\n"
     ]
    }
   ],
   "source": [
    "class Year:\n",
    "    def __init__ (self,year):\n",
    "        self.year = year\n",
    "\n",
    "    def isLeapYear (self):\n",
    "        if self.year>1592 and ((self.year %4 ==0 and self.year %100!=0) or (self.year % 400 == True)):\n",
    "            self.print_leap(\"\")\n",
    "        else:\n",
    "            self.print_leap(\" not\")\n",
    "             \n",
    "    def print_leap (self, n = \"\"):\n",
    "        print (str(self.year) + \" is\" + n +\" a Leap Year\")\n",
    "\n",
    "yr = Year(int(input(\"Enter a Year: \")))\n",
    "yr.isLeapYear()    "
   ]
  },
  {
   "cell_type": "markdown",
   "id": "7a2edafd",
   "metadata": {},
   "source": [
    "n = 18\n",
    "\n",
    "for lines in range(n):\n",
    "    for columns in range(n):\n",
    "        if lines == n//2:\n",
    "            print(\"*\", end = \"\")\n",
    "            "
   ]
  },
  {
   "attachments": {},
   "cell_type": "markdown",
   "id": "a536e4b5",
   "metadata": {},
   "source": [
    "**Problem 5**\n",
    ": Scaleable four problem"
   ]
  },
  {
   "cell_type": "code",
   "execution_count": 2,
   "id": "22dbbcd1",
   "metadata": {},
   "outputs": [
    {
     "name": "stdout",
     "output_type": "stream",
     "text": [
      "                  *                 \n",
      "                *                   \n",
      "              *                     \n",
      "            *                       \n",
      "          *                         \n",
      "        *                 *         \n",
      "      *                   *         \n",
      "    *                     *         \n",
      "  *                       *         \n",
      "* * * * * * * * * * * * * * * * * * \n",
      "                          *         \n",
      "                          *         \n",
      "                          *         \n",
      "                          *         \n",
      "                          *         \n",
      "                          *         \n",
      "                          *         \n",
      "                          *         \n"
     ]
    }
   ],
   "source": [
    "\n",
    "n = 18\n",
    "for lines in range(n): \n",
    "    for columns in range(n): \n",
    "        #// is a rounding operator\n",
    "        if lines == n//2 or (columns == int(.75*n) and lines >=(.25*n)) or (n//2 - lines == columns): \n",
    "            #end operator forces print to end at the end of the string instead of restarting.\n",
    "            print(\"*\", end = \" \")\n",
    "        else:\n",
    "            print(\" \",end = \" \")\n",
    "    print ()\n",
    "    "
   ]
  },
  {
   "attachments": {},
   "cell_type": "markdown",
   "id": "44a1f58e",
   "metadata": {},
   "source": [
    "**Problem 6**\n",
    ": Magic Square Problem"
   ]
  },
  {
   "cell_type": "code",
   "execution_count": 7,
   "id": "6432efad",
   "metadata": {},
   "outputs": [
    {
     "name": "stdout",
     "output_type": "stream",
     "text": [
      "[8, 10, 16, 2]\n",
      "[3, 5, 11, 13]\n",
      "[14, 4, 6, 12]\n",
      "[9, 15, 1, 7]\n"
     ]
    }
   ],
   "source": [
    "def pretty_print (m):\n",
    "    for i in m:\n",
    "        print (i)\n",
    "\n",
    "'''\n",
    "# The code to actually make a matrik \n",
    "magic_squares = []\n",
    "for i in range (16):\n",
    "    k = int(input ())\n",
    "    if k in magic_squares:\n",
    "        print (\"value exists!\")\n",
    "        break\n",
    "    magic_squares.append(k)\n",
    "print (magic_squares)\n",
    "\n",
    "k = 0\n",
    "final_matrik = []\n",
    "for i in range(4):\n",
    "    n_row = []\n",
    "    for j in range (4):\n",
    "        n_row.append (magic_squares[i+k*j])\n",
    "    fina_matrix.append(n_row)\n",
    "    k+= 1\n",
    "\n",
    "pretty_print (final_matrix)\n",
    "'''\n",
    "\n",
    "matrix = [[0 for i in range(4)]for j in range (4)]\n",
    "#Step 1\n",
    "n = 4\n",
    "row = n-1\n",
    "column = n//2\n",
    "#Step 2\n",
    "for k in range (1, n*n+1):\n",
    "#Step 3\n",
    "    matrix [row][column] = k\n",
    "    prev_row = row\n",
    "    prev_column = column\n",
    "    #Step 4\n",
    "    row += 1\n",
    "    column += 1\n",
    "    #Step 5\n",
    "    if row == n:\n",
    "        row=0\n",
    "    if column == n:\n",
    "        column = 0\n",
    "    #Step 6\n",
    "    if matrix [row][column]!=0:\n",
    "        row = prev_row\n",
    "        column = prev_column\n",
    "        row-=1\n",
    "\n",
    "pretty_print(matrix)"
   ]
  },
  {
   "cell_type": "code",
   "execution_count": null,
   "id": "0e7669b2",
   "metadata": {},
   "outputs": [],
   "source": []
  }
 ],
 "metadata": {
  "kernelspec": {
   "display_name": "Python 3",
   "language": "python",
   "name": "python3"
  },
  "language_info": {
   "codemirror_mode": {
    "name": "ipython",
    "version": 3
   },
   "file_extension": ".py",
   "mimetype": "text/x-python",
   "name": "python",
   "nbconvert_exporter": "python",
   "pygments_lexer": "ipython3",
   "version": "3.9.6 (default, Oct 18 2022, 12:41:40) \n[Clang 14.0.0 (clang-1400.0.29.202)]"
  },
  "vscode": {
   "interpreter": {
    "hash": "31f2aee4e71d21fbe5cf8b01ff0e069b9275f58929596ceb00d14d90e3e16cd6"
   }
  }
 },
 "nbformat": 4,
 "nbformat_minor": 5
}
