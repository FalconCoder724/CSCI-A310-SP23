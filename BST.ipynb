{
 "cells": [
  {
   "cell_type": "code",
   "execution_count": 5,
   "id": "ad6ef121",
   "metadata": {},
   "outputs": [],
   "source": [
    "class BST:\n",
    "    def __init__(self,val):\n",
    "        self.val = val\n",
    "        self.left = None\n",
    "        self.right = None\n",
    "def print_tree(node, level=0):\n",
    "        if node is not None:\n",
    "            print_tree(node.right, level + 1)\n",
    "            print(' ' * 4 * level + '->', node.val)\n",
    "            print_tree(node.left, level + 1)"
   ]
  },
  {
   "cell_type": "code",
   "execution_count": 6,
   "id": "09be075f",
   "metadata": {},
   "outputs": [
    {
     "name": "stdout",
     "output_type": "stream",
     "text": [
      "        -> 14\n",
      "            -> 13\n",
      "    -> 10\n",
      "-> 8\n",
      "            -> 7\n",
      "        -> 6\n",
      "            -> 4\n",
      "    -> 3\n",
      "        -> 1\n"
     ]
    }
   ],
   "source": [
    "root = BST(8)\n",
    "root.left = BST(3)\n",
    "root.right = BST(10)\n",
    "root.left.left = BST(1)\n",
    "root.left.right = BST(6)\n",
    "root.right.right = BST(14)\n",
    "root.left.right.left = BST(4)\n",
    "root.left.right.right = BST(7)\n",
    "root.right.right.left = BST(13)\n",
    "\n",
    "print_tree(root)\n",
    "\n"
   ]
  },
  {
   "cell_type": "code",
   "execution_count": null,
   "id": "2bb89014",
   "metadata": {},
   "outputs": [],
   "source": []
  }
 ],
 "metadata": {
  "kernelspec": {
   "display_name": "Python 3",
   "language": "python",
   "name": "python3"
  },
  "language_info": {
   "codemirror_mode": {
    "name": "ipython",
    "version": 3
   },
   "file_extension": ".py",
   "mimetype": "text/x-python",
   "name": "python",
   "nbconvert_exporter": "python",
   "pygments_lexer": "ipython3",
   "version": "3.9.6 (default, Oct 18 2022, 12:41:40) \n[Clang 14.0.0 (clang-1400.0.29.202)]"
  },
  "vscode": {
   "interpreter": {
    "hash": "31f2aee4e71d21fbe5cf8b01ff0e069b9275f58929596ceb00d14d90e3e16cd6"
   }
  }
 },
 "nbformat": 4,
 "nbformat_minor": 5
}
