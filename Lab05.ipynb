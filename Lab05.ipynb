{
 "cells": [
  {
   "attachments": {},
   "cell_type": "markdown",
   "metadata": {},
   "source": [
    "Heaps are Large Piles of Data.\n",
    "They have two main functions:\n",
    "Heap\n",
    "- Insert\n",
    "    - Insert at the bottom and check with parent for smallest.\n",
    "- Delete\n",
    "    - Delete/remove the smallest value and have the heap readjust by moving the smallest  value up.\n",
    "Most important thing in a heap is that is always filled, there aren't any gaps in the internal elements.\n",
    "Heaps are always filled left to right. But they move nodes within itself to organize it self by number value."
   ]
  },
  {
   "cell_type": "code",
   "execution_count": 5,
   "metadata": {},
   "outputs": [],
   "source": [
    "import math\n",
    "class Heap:\n",
    "    def __init__(self):\n",
    "        self.heap = [-9999]\n",
    "    def left(self, n):\n",
    "        return 2*n\n",
    "    def right(self, n):\n",
    "        return 2*n+1\n",
    "    def parent (self, n):\n",
    "        if n == 1:\n",
    "            return None\n",
    "        else:\n",
    "            return n//2\n",
    "    def insrt(self, val):\n",
    "        self.heap.append(val)\n",
    "        self.heapifyBU(len(self.heap)-1)\n",
    "    \n",
    "    \n",
    "    def delete(self):\n",
    "        self.heap[1] = self.heap[-1]\n",
    "        del self.heap[-1]\n",
    "        self.heapifyTD(1)\n",
    "\n",
    "\n",
    "    def heapifyBU(self,n):\n",
    "        parent = self.parent(n)\n",
    "        if parent == None:\n",
    "            return 0\n",
    "        if self.heap[parent] > self.heap[n]:\n",
    "            self.heap[parent], self.heap[n] = self.heap[n],self.heap[parent]\n",
    "            self.heapifyBU(parent)\n",
    "\n",
    "    def heapifyTD(self,n):\n",
    "        # n = 1\n",
    "        # left = 2n & Right = 2n+1\n",
    "        # left = 2\n",
    "        left = self.left(n)\n",
    "        right = self.right(n)\n",
    "        len_heap = len(self.heap)\n",
    "        if right >= len_heap:\n",
    "            if left >= len_heap:\n",
    "                return\n",
    "            else:\n",
    "                if self.heap[left]<self.heap[n]:\n",
    "                    self.heap[left],self.heap[n] = self.heap[n],self.heap[left]\n",
    "        else:\n",
    "            min_index = n\n",
    "            if self.heap[left]<self.heap[right]:\n",
    "                min_index = left\n",
    "            else: \n",
    "                min_index = right\n",
    "            if self.heap[n]>self.heap[min_index]:\n",
    "                self.heap[min_index],self.heap[n] = self.heap[n],self.heap[min_index]\n",
    "                self.heapifyTD(min_index)\n",
    "\n",
    "    def display(self):\n",
    "        h = int(math.log(len(self.heap),2))+1\n",
    "        k = 0\n",
    "        for i in range(1,h+1):\n",
    "            n = 2 ** (i-1)\n",
    "            sl = self.heap[k:k+n]\n",
    "            k += n\n",
    "            space = 2 ** (h-i)\n",
    "            space_bet = (2 * space) - 1\n",
    "            if space == 1:\n",
    "                space_bet = 1\n",
    "            if len(self.heap) == 1:\n",
    "                print(sl[0],end = \"\")\n",
    "            elif i == 1:\n",
    "                print(\" \" * (space), end = \"\")\n",
    "                print(sl[0],end = \"\")\n",
    "            else:\n",
    "                print(\" \" * (space), end = \"\")\n",
    "                for j in range (0,len(sl)):\n",
    "                    print (sl[j], end = \"\")\n",
    "                    print(space_bet * \" \", end = \"\")\n",
    "            print()"
   ]
  },
  {
   "cell_type": "code",
   "execution_count": 6,
   "metadata": {},
   "outputs": [
    {
     "name": "stdout",
     "output_type": "stream",
     "text": [
      "\n",
      "Starting with 9\n",
      "    -9999\n",
      "  9   29   \n",
      " 21 44 97 24 \n"
     ]
    }
   ],
   "source": [
    "h = Heap()\n",
    "h.heap.extend([21, 29,24,44,97])\n",
    "h.insrt(9)\n",
    "print (\"\\nStarting with 9\")\n",
    "h.display()"
   ]
  },
  {
   "cell_type": "code",
   "execution_count": null,
   "metadata": {},
   "outputs": [],
   "source": []
  }
 ],
 "metadata": {
  "kernelspec": {
   "display_name": "Python 3",
   "language": "python",
   "name": "python3"
  },
  "language_info": {
   "codemirror_mode": {
    "name": "ipython",
    "version": 3
   },
   "file_extension": ".py",
   "mimetype": "text/x-python",
   "name": "python",
   "nbconvert_exporter": "python",
   "pygments_lexer": "ipython3",
   "version": "3.9.6 (default, Oct 18 2022, 12:41:40) \n[Clang 14.0.0 (clang-1400.0.29.202)]"
  },
  "orig_nbformat": 4,
  "vscode": {
   "interpreter": {
    "hash": "31f2aee4e71d21fbe5cf8b01ff0e069b9275f58929596ceb00d14d90e3e16cd6"
   }
  }
 },
 "nbformat": 4,
 "nbformat_minor": 2
}
