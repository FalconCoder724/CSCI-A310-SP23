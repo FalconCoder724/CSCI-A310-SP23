{
 "cells": [
  {
   "attachments": {},
   "cell_type": "markdown",
   "metadata": {},
   "source": [
    "Sai Mullangi\n",
    "Lab 06\n",
    "2/16/2023"
   ]
  },
  {
   "attachments": {},
   "cell_type": "markdown",
   "metadata": {},
   "source": [
    "Tower of Hanoi Problem"
   ]
  },
  {
   "cell_type": "code",
   "execution_count": 1,
   "metadata": {},
   "outputs": [],
   "source": [
    "def hanoi (n,source,destination,auxiliary):\n",
    "    count = 0\n",
    "    if n == 1: #Exit condition\n",
    "        count += 1\n",
    "        print('Moving ' + str(n) + \" \" + source + \" to \" + destination)\n",
    "        #print('It takes '+ str(count) + \" moves to move \" + str(n) + ' disks to the ' + destination)\n",
    "        return\n",
    "    count += 1\n",
    "    hanoi(n-1,source,auxiliary,destination)\n",
    "    print('Moving ' + str(n) + \" \" + source + \" to \" + destination)\n",
    "    count += 1\n",
    "    hanoi(n-1,auxiliary,destination,source)"
   ]
  },
  {
   "attachments": {},
   "cell_type": "markdown",
   "metadata": {},
   "source": [
    "Output Code"
   ]
  },
  {
   "cell_type": "code",
   "execution_count": 2,
   "metadata": {},
   "outputs": [
    {
     "name": "stdout",
     "output_type": "stream",
     "text": [
      "Moving 1 A to C\n",
      "Moving 2 A to B\n",
      "Moving 1 C to B\n",
      "Moving 3 A to C\n",
      "Moving 1 B to A\n",
      "Moving 2 B to C\n",
      "Moving 1 A to C\n",
      "Moving 4 A to B\n",
      "Moving 1 C to B\n",
      "Moving 2 C to A\n",
      "Moving 1 B to A\n",
      "Moving 3 C to B\n",
      "Moving 1 A to C\n",
      "Moving 2 A to B\n",
      "Moving 1 C to B\n"
     ]
    }
   ],
   "source": [
    "n = 4\n",
    "hanoi(n,'A','B','C')"
   ]
  },
  {
   "attachments": {},
   "cell_type": "markdown",
   "metadata": {},
   "source": [
    "Permutations Proble\n",
    "Work on the assertions here"
   ]
  },
  {
   "cell_type": "code",
   "execution_count": 3,
   "metadata": {},
   "outputs": [],
   "source": [
    "# a = set of values to be permutated\n",
    "# i = position to look forward from\n",
    "# l = length of set a\n",
    "# op = output\n",
    "\n",
    "#hat -- 'hat' 'a' 't'\n",
    "#h -- a; h -- t\n",
    "def perm (a,i,l, op=[]):\n",
    "    if l == i:\n",
    "        op.append(''.join(a))\n",
    "    for j in range(i,l):\n",
    "        w = [r for r in a] #one-liner to split the string\n",
    "        w[i],w[j] = w[j],w[i]\n",
    "        perm(w,i+1,l,op)\n",
    "    return op"
   ]
  },
  {
   "attachments": {},
   "cell_type": "markdown",
   "metadata": {},
   "source": [
    "Output Code"
   ]
  },
  {
   "cell_type": "code",
   "execution_count": 4,
   "metadata": {},
   "outputs": [
    {
     "name": "stdout",
     "output_type": "stream",
     "text": [
      "['hat', 'hta', 'aht', 'ath', 'tah', 'tha']\n",
      "All assertions passed without a problem\n"
     ]
    }
   ],
   "source": [
    "import math\n",
    "a = 'hat'\n",
    "l = len(a)\n",
    "print(perm(a,0,l))\n",
    "\n",
    "def fact(n):\n",
    "    return math.factorial(n)\n",
    "\n",
    "#print(sorted([\"hat\", 'aht', 'ath', 'tha', 'hta', 'tah']))\n",
    "assert sorted(perm(\"hat\",0,l,[])) == sorted(['hat', 'aht', 'ath', 'hta', 'tha', 'tah']), \"First assert fails.\"\n",
    "assert len(perm(\"race\",0,len('race'),[])) == fact(len(\"race\")), \"Second assert fails.\"\n",
    "assert len(perm(\"whatever\",0,len('whatever'),[])) == 40320, \"Third assert failed.\"\n",
    "print (\"All assertions passed without a problem\")"
   ]
  },
  {
   "attachments": {},
   "cell_type": "markdown",
   "metadata": {},
   "source": [
    "Mimicking Perl Program"
   ]
  },
  {
   "cell_type": "code",
   "execution_count": 5,
   "metadata": {},
   "outputs": [
    {
     "name": "stdout",
     "output_type": "stream",
     "text": [
      "12345 6789 changes to (1)(2)(3)(4)(5) (6)(7)(8)(9)\n",
      "12345 6789 changes to 21435 7698\n",
      "12345 6789 changes to 375 1317\n"
     ]
    }
   ],
   "source": [
    "import re\n",
    "#importing rejax\n",
    "\n",
    "a = '12345 6789'\n",
    "b = a\n",
    "\n",
    "#substituiton- sub(pattern, replace, pattern, string)\n",
    "print(a + ' changes to '+ re.sub(r'([0-9])',r'(\\1)',b))\n",
    "print(a + ' changes to '+ re.sub(r'([0-9])([0-9])',r'\\2\\1',b))\n",
    "\n",
    "n = re.findall(r'([0-9])([0-9])',b)\n",
    "#print(n)\n",
    "\n",
    "for i in n:\n",
    "    s = str(int(i[0])+int(i[1]))\n",
    "    b = re.sub(i[0]+i[1],s,b)\n",
    "\n",
    "print(a + ' changes to '+ b)\n"
   ]
  }
 ],
 "metadata": {
  "kernelspec": {
   "display_name": "Python 3",
   "language": "python",
   "name": "python3"
  },
  "language_info": {
   "codemirror_mode": {
    "name": "ipython",
    "version": 3
   },
   "file_extension": ".py",
   "mimetype": "text/x-python",
   "name": "python",
   "nbconvert_exporter": "python",
   "pygments_lexer": "ipython3",
   "version": "3.9.6 (default, Oct 18 2022, 12:41:40) \n[Clang 14.0.0 (clang-1400.0.29.202)]"
  },
  "orig_nbformat": 4,
  "vscode": {
   "interpreter": {
    "hash": "31f2aee4e71d21fbe5cf8b01ff0e069b9275f58929596ceb00d14d90e3e16cd6"
   }
  }
 },
 "nbformat": 4,
 "nbformat_minor": 2
}
